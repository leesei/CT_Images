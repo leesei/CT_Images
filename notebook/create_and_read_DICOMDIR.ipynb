{
 "cells": [
  {
   "cell_type": "code",
   "execution_count": null,
   "metadata": {},
   "outputs": [],
   "source": [
    "import pydicom\n",
    "from pydicom.data import get_testdata_file"
   ]
  },
  {
   "cell_type": "code",
   "execution_count": null,
   "metadata": {},
   "outputs": [],
   "source": [
    "fpath = \"./siim-medical-images/dicom_dir/ID_0000_AGE_0060_CONTRAST_1_CT.dcm\""
   ]
  },
  {
   "cell_type": "code",
   "execution_count": null,
   "metadata": {},
   "outputs": [],
   "source": [
    "ds = pydicom.dcmread(fpath)  # plan dataset"
   ]
  },
  {
   "cell_type": "code",
   "execution_count": null,
   "metadata": {},
   "outputs": [],
   "source": [
    "fpath = \"./Chest_CT_selected/TCGA-17-Z019/3-Chest Routine 2-36091/000000.dcm\""
   ]
  },
  {
   "cell_type": "code",
   "execution_count": null,
   "metadata": {},
   "outputs": [],
   "source": [
    "ds = pydicom.dcmread(fpath, force=True)  # plan dataset"
   ]
  },
  {
   "cell_type": "code",
   "execution_count": null,
   "metadata": {},
   "outputs": [],
   "source": [
    "ds"
   ]
  },
  {
   "cell_type": "code",
   "execution_count": null,
   "metadata": {},
   "outputs": [],
   "source": [
    "elem = ds[0x0008, 0x0016]"
   ]
  },
  {
   "cell_type": "code",
   "execution_count": null,
   "metadata": {},
   "outputs": [],
   "source": [
    "elem"
   ]
  },
  {
   "cell_type": "code",
   "execution_count": null,
   "metadata": {},
   "outputs": [],
   "source": [
    "elem.keyword"
   ]
  },
  {
   "cell_type": "code",
   "execution_count": null,
   "metadata": {},
   "outputs": [],
   "source": [
    "elem = ds[\"SOPClassUID\"]"
   ]
  },
  {
   "cell_type": "code",
   "execution_count": null,
   "metadata": {},
   "outputs": [],
   "source": [
    "elem.value"
   ]
  },
  {
   "cell_type": "code",
   "execution_count": null,
   "metadata": {},
   "outputs": [],
   "source": [
    "ds.SOPClassUID"
   ]
  },
  {
   "cell_type": "code",
   "execution_count": null,
   "metadata": {},
   "outputs": [],
   "source": [
    "ds.ImageType"
   ]
  },
  {
   "cell_type": "code",
   "execution_count": null,
   "metadata": {},
   "outputs": [],
   "source": [
    "ds.ImageType[1]"
   ]
  },
  {
   "cell_type": "markdown",
   "metadata": {},
   "source": [
    "## Create a Simple DICOMDIR file"
   ]
  },
  {
   "cell_type": "code",
   "execution_count": null,
   "metadata": {},
   "outputs": [],
   "source": [
    "import os\n",
    "import json\n",
    "import pydicom\n",
    "from pydicom import dcmread\n",
    "print(pydicom.__version__)"
   ]
  },
  {
   "cell_type": "code",
   "execution_count": null,
   "metadata": {},
   "outputs": [],
   "source": [
    "#dicom_dir = \"./siim-medical-images/dicom_dir/\"\n",
    "dicom_dir = \"./Chest_CT_selected/\""
   ]
  },
  {
   "cell_type": "code",
   "execution_count": null,
   "metadata": {},
   "outputs": [],
   "source": [
    "class Instance(dict):\n",
    "    def __init__(self, filepath, SOPInstanceUID, InstanceNumber, ImagePosition, ImageOrientation):\n",
    "        super().__init__()\n",
    "        self.__dict__ = self\n",
    "        self.SOPInstanceUID = SOPInstanceUID\n",
    "        self.InstanceNumber = InstanceNumber\n",
    "        self.ImagePosition = ImagePosition\n",
    "        self.ImageOrientation = ImageOrientation\n",
    "        self.filepath = filepath\n",
    "        \n",
    "class Series(dict):\n",
    "    def __init__(self, SeriesInstanceUID, SeriesNumber, Modality, SeriesDescription):\n",
    "        super().__init__()\n",
    "        self.__dict__ = self\n",
    "        self.SeriesInstanceUID = SeriesInstanceUID\n",
    "        self.SeriesNumber = SeriesNumber\n",
    "        self.Modality = Modality\n",
    "        self.SeriesDescription = SeriesDescription\n",
    "        self.children = []\n",
    "        \n",
    "    def add_child(self, instance):\n",
    "        self.children.append(instance)\n",
    "        \n",
    "    def sort_children(self):\n",
    "        pass\n",
    "    \n",
    "    def __eq__(self, other):\n",
    "        if isinstance(other, str):\n",
    "            return other == self.SeriesInstanceUID\n",
    "        elif isinstance(other, Series):\n",
    "            return other.SeriesInstanceUID == self.SeriesInstanceUID\n",
    "        else:\n",
    "            return NotImplemented\n",
    "        \n",
    "class Study(dict):\n",
    "    def __init__(self, StudyInstanceUID, StudyID, StudyDate, StudyDescription):\n",
    "        super().__init__()\n",
    "        self.__dict__ = self\n",
    "        self.StudyInstanceUID = StudyInstanceUID\n",
    "        self.StudyID = StudyID\n",
    "        self.StudyDate = StudyDate\n",
    "        self.StudyDescription = StudyDescription\n",
    "        self.children = []\n",
    "        \n",
    "    def add_child(self, series):\n",
    "        self.children.append(series)\n",
    "        \n",
    "    def sort_children(self):\n",
    "        pass\n",
    "    \n",
    "    def __eq__(self, other):\n",
    "        if isinstance(other, str):\n",
    "            return other == self.StudyInstanceUID\n",
    "        elif isinstance(other, Study):\n",
    "            return other.StudyInstanceUID == self.StudyInstanceUID\n",
    "        else:\n",
    "            return NotImplemented\n",
    "\n",
    "    def get_child(self, SeriesInstanceUID):\n",
    "        for series in self.children:\n",
    "            if series == SeriesInstanceUID:\n",
    "                return series\n",
    "        return None\n",
    "\n",
    "    \n",
    "class Patient(dict):\n",
    "    def __init__(self, PatientID, PatientName):\n",
    "        super().__init__()\n",
    "        self.__dict__ = self\n",
    "        self.PatientID = PatientID\n",
    "        self.PatientName = PatientName\n",
    "        self.children = []\n",
    "        \n",
    "    def add_child(self, study):\n",
    "        self.children.append(study)\n",
    "        \n",
    "    def sort_children(self):\n",
    "        pass\n",
    "    \n",
    "    def __eq__(self, other):\n",
    "        if isinstance(other, str):\n",
    "            return other == self.PatientID\n",
    "        elif isinstance(other, Patient):\n",
    "            return other.PatientID == self.PatientID\n",
    "        else:\n",
    "            return NotImplemented\n",
    "        \n",
    "    def get_child(self, StudyInstanceUID):\n",
    "        for study in self.children:\n",
    "            if study == StudyInstanceUID:\n",
    "                return study\n",
    "        return None\n",
    "    \n",
    "class DICOMDIR(dict):\n",
    "    def __init__(self):\n",
    "        super().__init__()\n",
    "        self.__dict__ = self\n",
    "        self.children = []\n",
    "    \n",
    "    def add_child(self, patient):\n",
    "        self.children.append(patient)\n",
    "        \n",
    "    def sort_children(self):\n",
    "        pass\n",
    "    \n",
    "    def get_child(self, PatientID):\n",
    "        for patient in self.children:\n",
    "            if patient == PatientID:\n",
    "                return patient\n",
    "        return None\n",
    "    \n",
    "    def add_instance(self, instance):\n",
    "        pass"
   ]
  },
  {
   "cell_type": "code",
   "execution_count": null,
   "metadata": {},
   "outputs": [],
   "source": [
    "def create_simple_DICOMDIR(dicom_dir):\n",
    "    dicomdir = DICOMDIR()\n",
    "    for root, dirs, files in os.walk(dicom_dir):\n",
    "        for file in files:\n",
    "            if file.endswith(\".dcm\"):\n",
    "                filepath = os.path.join(root,file)\n",
    "                #print(filepath)\n",
    "                try:\n",
    "                    ds = dcmread(filepath, force=True)\n",
    "                    # instance attr\n",
    "                    SOPInstanceUID = ds.SOPInstanceUID\n",
    "                    InstanceNumber = int(ds.InstanceNumber) if hasattr(ds, \"InstanceNumber\") else None\n",
    "                    ImagePosition = ds.ImagePosition if hasattr(ds, \"ImagePosition\") else None\n",
    "                    ImageOrientation = ds.ImageOrientation if hasattr(ds, \"ImageOrientation\") else None\n",
    "\n",
    "                    # series attr\n",
    "                    SeriesInstanceUID = ds.SeriesInstanceUID\n",
    "                    SeriesNumber = int(ds.SeriesNumber) if hasattr(ds, \"SeriesNumber\") else None\n",
    "                    Modality = ds.Modality if hasattr(ds, \"Modality\") else None\n",
    "                    SeriesDescription = ds.SeriesDescription if hasattr(ds, \"SeriesDescription\") else None\n",
    "\n",
    "                    # study attr\n",
    "                    StudyInstanceUID = ds.StudyInstanceUID\n",
    "                    StudyID = ds.StudyID if hasattr(ds, \"StudyID\") else None\n",
    "                    StudyDate = ds.StudyDate if hasattr(ds, \"StudyDate\") else None\n",
    "                    StudyDescription = ds.StudyDescription if hasattr(ds, \"StudyDescription\") else None\n",
    "\n",
    "                    # patient attr\n",
    "                    PatientID = ds.PatientID if hasattr(ds, \"PatientID\") else \"Anonymous\"\n",
    "                    PatientName = ds.PatientName if hasattr(ds, \"PatientName\") else None                \n",
    "\n",
    "                    # Insert into dicomdir\n",
    "                    instance = Instance(filepath, SOPInstanceUID, InstanceNumber, ImagePosition, ImageOrientation)\n",
    "                    patient = dicomdir.get_child(PatientID)\n",
    "                    if patient is None:\n",
    "                        #print(patient)\n",
    "                        series = Series(SeriesInstanceUID, SeriesNumber, Modality, SeriesDescription)\n",
    "                        study = Study(StudyInstanceUID, StudyID, StudyDate, StudyDescription)\n",
    "                        patient = Patient(PatientID, PatientName)\n",
    "                        dicomdir.add_child(patient)\n",
    "                        patient.add_child(study)\n",
    "                        study.add_child(series)\n",
    "                        series.add_child(instance)\n",
    "                        continue\n",
    "\n",
    "                    study = patient.get_child(StudyInstanceUID)\n",
    "                    if study is None:\n",
    "                        series = Series(SeriesInstanceUID, SeriesNumber, Modality, SeriesDescription)\n",
    "                        study = Study(StudyInstanceUID, StudyID, StudyDate, StudyDescription)\n",
    "                        patient.add_child(study)\n",
    "                        study.add_child(series)\n",
    "                        series.add_child(instance)\n",
    "                        continue\n",
    "\n",
    "                    series = study.get_child(SeriesInstanceUID)\n",
    "                    if series is None:\n",
    "                        series = Series(SeriesInstanceUID, SeriesNumber, Modality, SeriesDescription)\n",
    "                        study.add_child(series)\n",
    "                        series.add_child(instance)\n",
    "                        continue\n",
    "\n",
    "                    series.add_child(instance)\n",
    "                    \n",
    "                except pydicom.errors.InvalidDicomError as e:\n",
    "                    print(e)\n",
    "                    print(f\"{filepath} is not a valid DICOM file\")\n",
    "\n",
    "                #print(filepath, patient_id, patient_name, study_instance_uid, study_id, series_instance_uid, sop_instance_uid, instance_number, \n",
    "                #     image_position, image_orientation)\n",
    "    return dicomdir\n",
    "\n",
    "dicomdir = create_simple_DICOMDIR(dicom_dir)\n",
    "print(dicomdir)"
   ]
  },
  {
   "cell_type": "code",
   "execution_count": null,
   "metadata": {},
   "outputs": [],
   "source": [
    "# read DICOMDIR\n",
    "for patient in dicomdir.children:\n",
    "    patient_id = patient.PatientID\n",
    "    patient_name = patient.PatientName\n",
    "    print(f\"\")\n",
    "    print(f\"patient_id: {patient_id}, patient_name: {patient_name}\")\n",
    "    \n",
    "    for study in patient.children:\n",
    "        study_uid = study.StudyInstanceUID\n",
    "        study_id = study.StudyID\n",
    "        study_date = study.StudyDate\n",
    "        study_description = study.StudyDescription\n",
    "        print(f\"-- study_uid: {study_uid}, study_id: {study_id}, study_date: {study_date}, study_description: {study_description}\")\n",
    "        \n",
    "        for series in study.children:\n",
    "            series_uid = series.SeriesInstanceUID\n",
    "            modality = series.Modality\n",
    "            series_number = series.SeriesNumber\n",
    "            series_description = series.SeriesDescription\n",
    "            print(f\"---- series_uid: {series_uid}, series_number: {series_number}, modality: {modality}, series_description: {series_description}\")\n",
    "\n",
    "            for instance in series.children:\n",
    "                instance_uid = instance.SOPInstanceUID\n",
    "                instance_number = instance.InstanceNumber\n",
    "                image_position = instance.ImagePosition\n",
    "                image_orientation = instance.ImageOrientation\n",
    "                #print(f\"instance_uid: {instance_uid}, instance_number: {instance_number}, image_position: {image_position}, image_orientation: {image_orientation}\")\n"
   ]
  },
  {
   "cell_type": "code",
   "execution_count": null,
   "metadata": {},
   "outputs": [],
   "source": []
  }
 ],
 "metadata": {
  "kernelspec": {
   "display_name": "Python 3",
   "language": "python",
   "name": "python3"
  },
  "language_info": {
   "codemirror_mode": {
    "name": "ipython",
    "version": 3
   },
   "file_extension": ".py",
   "mimetype": "text/x-python",
   "name": "python",
   "nbconvert_exporter": "python",
   "pygments_lexer": "ipython3",
   "version": "3.7.5"
  }
 },
 "nbformat": 4,
 "nbformat_minor": 4
}
