{
 "cells": [
  {
   "cell_type": "code",
   "execution_count": 1,
   "metadata": {},
   "outputs": [],
   "source": [
    "import pydicom\n",
    "from pydicom.data import get_testdata_file"
   ]
  },
  {
   "cell_type": "code",
   "execution_count": 17,
   "metadata": {},
   "outputs": [],
   "source": [
    "fpath = \"./siim-medical-images/dicom_dir/ID_0000_AGE_0060_CONTRAST_1_CT.dcm\""
   ]
  },
  {
   "cell_type": "code",
   "execution_count": 18,
   "metadata": {},
   "outputs": [],
   "source": [
    "ds = pydicom.dcmread(fpath)  # plan dataset"
   ]
  },
  {
   "cell_type": "code",
   "execution_count": 84,
   "metadata": {},
   "outputs": [],
   "source": [
    "fpath = \"./Chest_CT_selected/TCGA-17-Z019/3-Chest Routine 2-36091/000000.dcm\""
   ]
  },
  {
   "cell_type": "code",
   "execution_count": 87,
   "metadata": {},
   "outputs": [],
   "source": [
    "ds = pydicom.dcmread(fpath, force=True)  # plan dataset"
   ]
  },
  {
   "cell_type": "code",
   "execution_count": 88,
   "metadata": {},
   "outputs": [
    {
     "data": {
      "text/plain": [
       "(0008, 0000) Group Length                        UL: 464\n",
       "(0008, 0005) Specific Character Set              CS: 'ISO_IR 100'\n",
       "(0008, 0008) Image Type                          CS: ['ORIGINAL', 'PRIMARY', 'AXIAL', 'CT_SOM5 SPI']\n",
       "(0008, 0016) SOP Class UID                       UI: CT Image Storage\n",
       "(0008, 0018) SOP Instance UID                    UI: 1.3.6.1.4.1.14519.5.2.1.7777.9002.332495718054536022968134085670\n",
       "(0008, 0020) Study Date                          DA: '19821127'\n",
       "(0008, 0021) Series Date                         DA: '19821127'\n",
       "(0008, 0022) Acquisition Date                    DA: '19821127'\n",
       "(0008, 0023) Content Date                        DA: '19821127'\n",
       "(0008, 0030) Study Time                          TM: '075339.875000'\n",
       "(0008, 0031) Series Time                         TM: '075758.984000'\n",
       "(0008, 0032) Acquisition Time                    TM: '075532.381000'\n",
       "(0008, 0033) Content Time                        TM: '075532.381000'\n",
       "(0008, 0040) Data Set Type                       US: 0\n",
       "(0008, 0041) Data Set Subtype                    LO: 'IMA SPI'\n",
       "(0008, 0050) Accession Number                    SH: '1285572135897381'\n",
       "(0008, 0060) Modality                            CS: 'CT'\n",
       "(0008, 0070) Manufacturer                        LO: 'SIEMENS'\n",
       "(0008, 0090) Referring Physician's Name          PN: ' '\n",
       "(0008, 1010) Station Name                        SH: ''\n",
       "(0008, 103e) Series Description                  LO: 'Chest Routine #2'\n",
       "(0008, 1080) Admitting Diagnoses Description     LO: ''\n",
       "(0008, 1090) Manufacturer's Model Name           LO: 'Volume Zoom'\n",
       "(0009, 0000) Private Creator                     UN: b'N\\x00\\x00\\x00'\n",
       "(0009, 0010) Private tag data                    LO: 'SIEMENS CT VA1 DUMMY'\n",
       "(0009, 0011) Private tag data                    LO: 'SPI RELEASE 1'\n",
       "(0009, 0012) Private tag data                    LO: 'SIEMENS CM VA0  CMS'\n",
       "(0010, 0000) Group Length                        UL: 78\n",
       "(0010, 0010) Patient's Name                      PN: 'TCGA-17-Z019'\n",
       "(0010, 0020) Patient ID                          LO: 'TCGA-17-Z019'\n",
       "(0010, 0030) Patient's Birth Date                DA: ''\n",
       "(0010, 0040) Patient's Sex                       CS: 'M'\n",
       "(0010, 1010) Patient's Age                       AS: '049Y'\n",
       "(0010, 4000) Patient Comments                    LT: ''\n",
       "(0011, 0000) Private Creator                     UN: b'*\\x00\\x00\\x00'\n",
       "(0011, 0010) Private tag data                    LO: 'SPI RELEASE 1'\n",
       "(0011, 0011) Private tag data                    LO: 'SIEMENS ISI'\n",
       "(0012, 0000) Group Length                        UL: 758\n",
       "(0012, 0062) Patient Identity Removed            CS: 'YES'\n",
       "(0012, 0063) De-identification Method            LO: 'Per DICOM PS 3.15 AnnexE. Details in 0012,0064'\n",
       "(0012, 0064)  De-identification Method Code Sequence   8 item(s) ---- \n",
       "   (0008, 0000) Group Length                        UL: 76\n",
       "   (0008, 0100) Code Value                          SH: '113100'\n",
       "   (0008, 0102) Coding Scheme Designator            SH: 'DCM'\n",
       "   (0008, 0104) Code Meaning                        LO: 'Basic Application Confidentiality Profile'\n",
       "   ---------\n",
       "   (0008, 0000) Group Length                        UL: 58\n",
       "   (0008, 0100) Code Value                          SH: '113101'\n",
       "   (0008, 0102) Coding Scheme Designator            SH: 'DCM'\n",
       "   (0008, 0104) Code Meaning                        LO: 'Clean Pixel Data Option'\n",
       "   ---------\n",
       "   (0008, 0000) Group Length                        UL: 56\n",
       "   (0008, 0100) Code Value                          SH: '113103'\n",
       "   (0008, 0102) Coding Scheme Designator            SH: 'DCM'\n",
       "   (0008, 0104) Code Meaning                        LO: 'Clean Graphics Option'\n",
       "   ---------\n",
       "   (0008, 0000) Group Length                        UL: 58\n",
       "   (0008, 0100) Code Value                          SH: '113105'\n",
       "   (0008, 0102) Coding Scheme Designator            SH: 'DCM'\n",
       "   (0008, 0104) Code Meaning                        LO: 'Clean Descriptors Option'\n",
       "   ---------\n",
       "   (0008, 0000) Group Length                        UL: 80\n",
       "   (0008, 0100) Code Value                          SH: '113107'\n",
       "   (0008, 0102) Coding Scheme Designator            SH: 'DCM'\n",
       "   (0008, 0104) Code Meaning                        LO: 'Retain Longitudinal With Modified Dates Option'\n",
       "   ---------\n",
       "   (0008, 0000) Group Length                        UL: 72\n",
       "   (0008, 0100) Code Value                          SH: '113108'\n",
       "   (0008, 0102) Coding Scheme Designator            SH: 'DCM'\n",
       "   (0008, 0104) Code Meaning                        LO: 'Retain Patient Characteristics Option'\n",
       "   ---------\n",
       "   (0008, 0000) Group Length                        UL: 64\n",
       "   (0008, 0100) Code Value                          SH: '113109'\n",
       "   (0008, 0102) Coding Scheme Designator            SH: 'DCM'\n",
       "   (0008, 0104) Code Meaning                        LO: 'Retain Device Identity Option'\n",
       "   ---------\n",
       "   (0008, 0000) Group Length                        UL: 60\n",
       "   (0008, 0100) Code Value                          SH: '113111'\n",
       "   (0008, 0102) Coding Scheme Designator            SH: 'DCM'\n",
       "   (0008, 0104) Code Meaning                        LO: 'Retain Safe Private Option'\n",
       "   ---------\n",
       "(0013, 0000) Private Creator                     UN: b'.\\x00\\x00\\x00'\n",
       "(0013, 0010) Private tag data                    LO: 'CTP'\n",
       "(0013, 1010) Private tag data                    UN: b'TCGA-LUAD\\x00'\n",
       "(0013, 1013) Private tag data                    UN: b'77779002'\n",
       "(0018, 0000) Group Length                        UL: 238\n",
       "(0018, 0015) Body Part Examined                  CS: 'CHEST'\n",
       "(0018, 0050) Slice Thickness                     DS: \"5.0\"\n",
       "(0018, 0060) KVP                                 DS: \"140.0\"\n",
       "(0018, 1020) Software Versions                   LO: 'VA20A'\n",
       "(0018, 1030) Protocol Name                       LO: '1 Chest Routine 1mm'\n",
       "(0018, 1100) Reconstruction Diameter             DS: \"352.0\"\n",
       "(0018, 1110) Distance Source to Detector         DS: \"1040.0\"\n",
       "(0018, 1111) Distance Source to Patient          DS: \"570.0\"\n",
       "(0018, 1120) Gantry/Detector Tilt                DS: \"0.0\"\n",
       "(0018, 1130) Table Height                        DS: \"190.0\"\n",
       "(0018, 1140) Rotation Direction                  CS: 'CW'\n",
       "(0018, 1150) Exposure Time                       IS: \"500\"\n",
       "(0018, 1151) X-Ray Tube Current                  IS: \"342\"\n",
       "(0018, 1152) Exposure                            IS: \"120\"\n",
       "(0018, 1160) Filter Type                         SH: '0'\n",
       "(0018, 1170) Generator Power                     IS: \"47\"\n",
       "(0018, 1190) Focal Spot(s)                       DS: \"1.2\"\n",
       "(0018, 1210) Convolution Kernel                  SH: 'B60f'\n",
       "(0018, 5100) Patient Position                    CS: 'HFS'\n",
       "(0019, 0000) Private Creator                     UN: b'r\\x00\\x00\\x00'\n",
       "(0019, 0010) Private tag data                    LO: 'SIEMENS CT VA0  COAD'\n",
       "(0019, 0011) Private tag data                    LO: 'SIEMENS CM VA0  CMS'\n",
       "(0019, 1090) [Osteo Offset]                      UN: b'0 '\n",
       "(0019, 1092) [Osteo Regression Line Slope]       UN: b'0.958 '\n",
       "(0019, 1093) [Osteo Regression Line Intercept]   UN: b'0.86'\n",
       "(0019, 1096) [Osteo Phantom Number]              UN: b'0 '\n",
       "(0019, 10b0) [Feed per Rotation]                 UN: b'5.7 '\n",
       "(0020, 0000) Group Length                        UL: 382\n",
       "(0020, 000d) Study Instance UID                  UI: 1.3.6.1.4.1.14519.5.2.1.7777.9002.233123708853610798929346174556\n",
       "(0020, 000e) Series Instance UID                 UI: 1.3.6.1.4.1.14519.5.2.1.7777.9002.182050713312212959440141836091\n",
       "(0020, 0010) Study ID                            SH: ''\n",
       "(0020, 0011) Series Number                       IS: \"3\"\n",
       "(0020, 0012) Acquisition Number                  IS: \"2\"\n",
       "(0020, 0013) Instance Number                     IS: \"1\"\n",
       "(0020, 0030) Image Position                      DS: [-176, -176, 0]\n",
       "(0020, 0032) Image Position (Patient)            DS: [-173, -366, 324]\n",
       "(0020, 0035) Image Orientation                   DS: [1, 0, 0, 0, 1, 0]\n",
       "(0020, 0037) Image Orientation (Patient)         DS: [1, 0, 0, 0, 1, 0]\n",
       "(0020, 0050) Location                            DS: \"324.0\"\n",
       "(0020, 0052) Frame of Reference UID              UI: 1.3.6.1.4.1.14519.5.2.1.7777.9002.214185984261128887814925551510\n",
       "(0020, 0070) Image Geometry Type                 LO: 'PLANAR'\n",
       "(0020, 1040) Position Reference Indicator        LO: ''\n",
       "(0020, 1041) Slice Location                      DS: \"324.0\"\n",
       "(0021, 0000) Private Creator                     UN: b'\\x14\\x00\\x00\\x00'\n",
       "(0021, 0010) Private tag data                    LO: 'SIEMENS MED'\n",
       "(0028, 0000) Group Length                        UL: 286\n",
       "(0028, 0002) Samples per Pixel                   US: 1\n",
       "(0028, 0004) Photometric Interpretation          CS: 'MONOCHROME2'\n",
       "(0028, 0005) Image Dimensions                    US: 2\n",
       "(0028, 0010) Rows                                US: 512\n",
       "(0028, 0011) Columns                             US: 512\n",
       "(0028, 0030) Pixel Spacing                       DS: [006.875000e-01, 006.875000e-01]\n",
       "(0028, 0040) Image Format                        CS: 'RECT'\n",
       "(0028, 0060) Compression Code                    CS: 'NONE'\n",
       "(0028, 0100) Bits Allocated                      US: 16\n",
       "(0028, 0101) Bits Stored                         US: 12\n",
       "(0028, 0102) High Bit                            US: 11\n",
       "(0028, 0103) Pixel Representation                US: 0\n",
       "(0028, 0200) Image Location                      US: 32736\n",
       "(0028, 0301) Burned In Annotation                CS: 'NO'\n",
       "(0028, 0303) Longitudinal Temporal Information M CS: 'MODIFIED'\n",
       "(0028, 1050) Window Center                       DS: [-550, 10]\n",
       "(0028, 1051) Window Width                        DS: [1800, 400]\n",
       "(0028, 1052) Rescale Intercept                   DS: \"-1024.0\"\n",
       "(0028, 1053) Rescale Slope                       DS: \"1.0002441\"\n",
       "(0028, 1055) Window Center & Width Explanation   LO: ['WINDOW1', 'WINDOW2']\n",
       "(0029, 0000) Private Creator                     UN: b'T\\x00\\x00\\x00'\n",
       "(0029, 0010) Private tag data                    LO: 'SIEMENS CSA HEADER'\n",
       "(0029, 0011) Private tag data                    LO: 'SIEMENS MEDCOM HEADER'\n",
       "(0029, 0012) Private tag data                    LO: 'SIEMENS MED DISPLAY'\n",
       "(0032, 0000) Group Length                        UL: 86\n",
       "(0032, 000a) Study Status ID                     CS: 'COMPLETED'\n",
       "(0032, 1000) Scheduled Study Start Date          DA: '19821127'\n",
       "(0032, 1001) Scheduled Study Start Time          TM: '070000.000000'\n",
       "(0032, 1060) Requested Procedure Description     LO: 'CT CHEST WWO C'\n",
       "(0032, 4000) Study Comments                      LT: ''\n",
       "(0040, 0000) Group Length                        UL: 8\n",
       "(0040, 1003) Requested Procedure Priority        SH: ''\n",
       "(0091, 0000) Private Creator                     UN: b'\\x0e\\x00\\x00\\x00'\n",
       "(0091, 0010) Private tag data                    LO: 'SIENET'\n",
       "(0095, 0000) Private Creator                     UN: b'\\x0e\\x00\\x00\\x00'\n",
       "(0095, 0010) Private tag data                    LO: 'SIENET'\n",
       "(0097, 0000) Private Creator                     UN: b'\\x0e\\x00\\x00\\x00'\n",
       "(0097, 0010) Private tag data                    LO: 'SIENET'\n",
       "(0099, 0000) Private Creator                     UN: b'\\x0e\\x00\\x00\\x00'\n",
       "(0099, 0010) Private tag data                    LO: 'SIENET'\n",
       "(7003, 0000) Private Creator                     UN: b'\\x14\\x00\\x00\\x00'\n",
       "(7003, 0010) Private tag data                    LO: 'SIEMENS MED'\n",
       "(7fe0, 0010) Pixel Data                          OW: Array of 524288 elements"
      ]
     },
     "execution_count": 88,
     "metadata": {},
     "output_type": "execute_result"
    }
   ],
   "source": [
    "ds"
   ]
  },
  {
   "cell_type": "code",
   "execution_count": 21,
   "metadata": {},
   "outputs": [],
   "source": [
    "elem = ds[0x0008, 0x0016]"
   ]
  },
  {
   "cell_type": "code",
   "execution_count": 22,
   "metadata": {},
   "outputs": [
    {
     "data": {
      "text/plain": [
       "(0008, 0016) SOP Class UID                       UI: CT Image Storage"
      ]
     },
     "execution_count": 22,
     "metadata": {},
     "output_type": "execute_result"
    }
   ],
   "source": [
    "elem"
   ]
  },
  {
   "cell_type": "code",
   "execution_count": 23,
   "metadata": {},
   "outputs": [
    {
     "data": {
      "text/plain": [
       "'SOPClassUID'"
      ]
     },
     "execution_count": 23,
     "metadata": {},
     "output_type": "execute_result"
    }
   ],
   "source": [
    "elem.keyword"
   ]
  },
  {
   "cell_type": "code",
   "execution_count": 24,
   "metadata": {},
   "outputs": [],
   "source": [
    "elem = ds[\"SOPClassUID\"]"
   ]
  },
  {
   "cell_type": "code",
   "execution_count": 26,
   "metadata": {},
   "outputs": [
    {
     "data": {
      "text/plain": [
       "'1.2.840.10008.5.1.4.1.1.2'"
      ]
     },
     "execution_count": 26,
     "metadata": {},
     "output_type": "execute_result"
    }
   ],
   "source": [
    "elem.value"
   ]
  },
  {
   "cell_type": "code",
   "execution_count": 27,
   "metadata": {},
   "outputs": [
    {
     "data": {
      "text/plain": [
       "'1.2.840.10008.5.1.4.1.1.2'"
      ]
     },
     "execution_count": 27,
     "metadata": {},
     "output_type": "execute_result"
    }
   ],
   "source": [
    "ds.SOPClassUID"
   ]
  },
  {
   "cell_type": "code",
   "execution_count": 28,
   "metadata": {},
   "outputs": [
    {
     "data": {
      "text/plain": [
       "['ORIGINAL', 'PRIMARY', 'AXIAL']"
      ]
     },
     "execution_count": 28,
     "metadata": {},
     "output_type": "execute_result"
    }
   ],
   "source": [
    "ds.ImageType"
   ]
  },
  {
   "cell_type": "code",
   "execution_count": 29,
   "metadata": {},
   "outputs": [
    {
     "data": {
      "text/plain": [
       "'PRIMARY'"
      ]
     },
     "execution_count": 29,
     "metadata": {},
     "output_type": "execute_result"
    }
   ],
   "source": [
    "ds.ImageType[1]"
   ]
  },
  {
   "cell_type": "markdown",
   "metadata": {},
   "source": [
    "## Create a Simple DICOMDIR file"
   ]
  },
  {
   "cell_type": "code",
   "execution_count": 69,
   "metadata": {},
   "outputs": [
    {
     "name": "stdout",
     "output_type": "stream",
     "text": [
      "1.4.1\n"
     ]
    }
   ],
   "source": [
    "import os\n",
    "import json\n",
    "import pydicom\n",
    "from pydicom import dcmread\n",
    "print(pydicom.__version__)"
   ]
  },
  {
   "cell_type": "code",
   "execution_count": 131,
   "metadata": {},
   "outputs": [],
   "source": [
    "#dicom_dir = \"./siim-medical-images/dicom_dir/\"\n",
    "dicom_dir = \"./Chest_CT_selected/\""
   ]
  },
  {
   "cell_type": "code",
   "execution_count": 139,
   "metadata": {},
   "outputs": [],
   "source": [
    "class Instance(dict):\n",
    "    def __init__(self, filepath, SOPInstanceUID, InstanceNumber, ImagePosition, ImageOrientation):\n",
    "        super().__init__()\n",
    "        self.__dict__ = self\n",
    "        self.SOPInstanceUID = SOPInstanceUID\n",
    "        self.InstanceNumber = InstanceNumber\n",
    "        self.ImagePosition = ImagePosition\n",
    "        self.ImageOrientation = ImageOrientation\n",
    "        self.filepath = filepath\n",
    "        \n",
    "class Series(dict):\n",
    "    def __init__(self, SeriesInstanceUID, SeriesNumber, Modality, SeriesDescription):\n",
    "        super().__init__()\n",
    "        self.__dict__ = self\n",
    "        self.SeriesInstanceUID = SeriesInstanceUID\n",
    "        self.SeriesNumber = SeriesNumber\n",
    "        self.Modality = Modality\n",
    "        self.SeriesDescription = SeriesDescription\n",
    "        self.children = []\n",
    "        \n",
    "    def add_child(self, instance):\n",
    "        self.children.append(instance)\n",
    "        \n",
    "    def sort_children(self):\n",
    "        pass\n",
    "    \n",
    "    def __eq__(self, other):\n",
    "        if isinstance(other, str):\n",
    "            return other == self.SeriesInstanceUID\n",
    "        elif isinstance(other, Series):\n",
    "            return other.SeriesInstanceUID == self.SeriesInstanceUID\n",
    "        else:\n",
    "            return NotImplemented\n",
    "        \n",
    "class Study(dict):\n",
    "    def __init__(self, StudyInstanceUID, StudyID, StudyDate, StudyDescription):\n",
    "        super().__init__()\n",
    "        self.__dict__ = self\n",
    "        self.StudyInstanceUID = StudyInstanceUID\n",
    "        self.StudyID = StudyID\n",
    "        self.StudyDate = StudyDate\n",
    "        self.StudyDescription = StudyDescription\n",
    "        self.children = []\n",
    "        \n",
    "    def add_child(self, series):\n",
    "        self.children.append(series)\n",
    "        \n",
    "    def sort_children(self):\n",
    "        pass\n",
    "    \n",
    "    def __eq__(self, other):\n",
    "        if isinstance(other, str):\n",
    "            return other == self.StudyInstanceUID\n",
    "        elif isinstance(other, Study):\n",
    "            return other.StudyInstanceUID == self.StudyInstanceUID\n",
    "        else:\n",
    "            return NotImplemented\n",
    "\n",
    "    def get_child(self, SeriesInstanceUID):\n",
    "        for series in self.children:\n",
    "            if series == SeriesInstanceUID:\n",
    "                return series\n",
    "        return None\n",
    "\n",
    "    \n",
    "class Patient(dict):\n",
    "    def __init__(self, PatientID, PatientName):\n",
    "        super().__init__()\n",
    "        self.__dict__ = self\n",
    "        self.PatientID = PatientID\n",
    "        self.PatientName = PatientName\n",
    "        self.children = []\n",
    "        \n",
    "    def add_child(self, study):\n",
    "        self.children.append(study)\n",
    "        \n",
    "    def sort_children(self):\n",
    "        pass\n",
    "    \n",
    "    def __eq__(self, other):\n",
    "        if isinstance(other, str):\n",
    "            return other == self.PatientID\n",
    "        elif isinstance(other, Patient):\n",
    "            return other.PatientID == self.PatientID\n",
    "        else:\n",
    "            return NotImplemented\n",
    "        \n",
    "    def get_child(self, StudyInstanceUID):\n",
    "        for study in self.children:\n",
    "            if study == StudyInstanceUID:\n",
    "                return study\n",
    "        return None\n",
    "    \n",
    "class DICOMDIR(dict):\n",
    "    def __init__(self):\n",
    "        super().__init__()\n",
    "        self.__dict__ = self\n",
    "        self.children = []\n",
    "    \n",
    "    def add_child(self, patient):\n",
    "        self.children.append(patient)\n",
    "        \n",
    "    def sort_children(self):\n",
    "        pass\n",
    "    \n",
    "    def get_child(self, PatientID):\n",
    "        for patient in self.children:\n",
    "            if patient == PatientID:\n",
    "                return patient\n",
    "        return None\n",
    "    \n",
    "    def add_instance(self, instance):\n",
    "        pass"
   ]
  },
  {
   "cell_type": "code",
   "execution_count": 140,
   "metadata": {},
   "outputs": [
    {
     "name": "stdout",
     "output_type": "stream",
     "text": [
      "{'children': [{'PatientID': 'TCGA-50-5936', 'PatientName': 'TCGA-50-5936', 'children': [{'StudyInstanceUID': '1.3.6.1.4.1.14519.5.2.1.6450.9002.856238445920014684517442952122', 'StudyID': '', 'StudyDate': '19980424', 'StudyDescription': 'CHEST', 'children': [{'SeriesInstanceUID': '1.3.6.1.4.1.14519.5.2.1.6450.9002.186918016920030524145229857744', 'SeriesNumber': 190, 'Modality': 'CT', 'SeriesDescription': 'Reformatted', 'children': [{'SOPInstanceUID': '1.3.6.1.4.1.14519.5.2.1.6450.9002.158852666973592254905499455195', 'InstanceNumber': 135, 'ImagePosition': None, 'ImageOrientation': None, 'filepath': './Chest_CT_selected/TCGA-50-5936/190-Reformatted-57744/000133.dcm'}, {'SOPInstanceUID': '1.3.6.1.4.1.14519.5.2.1.6450.9002.305836992618808522388677492293', 'InstanceNumber': 128, 'ImagePosition': None, 'ImageOrientation': None, 'filepath': './Chest_CT_selected/TCGA-50-5936/190-Reformatted-57744/000127.dcm'}, {'SOPInstanceUID': '1.3.6.1.4.1.14519.5.2.1.6450.9002.119604627241796245574908392917', 'InstanceNumber': 48, 'ImagePosition': None, 'ImageOrientation': None, 'filepath': './Chest_CT_selected/TCGA-50-5936/190-Reformatted-57744/000047.dcm'}, {'SOPInstanceUID': '1.3.6.1.4.1.14519.5.2.1.6450.9002.153182408632046539171396040775', 'InstanceNumber': 54, 'ImagePosition': None, 'ImageOrientation': None, 'filepath': './Chest_CT_selected/TCGA-50-5936/190-Reformatted-57744/000053.dcm'}, {'SOPInstanceUID': '1.3.6.1.4.1.14519.5.2.1.6450.9002.281014291218920255382834645296', 'InstanceNumber': 85, 'ImagePosition': None, 'ImageOrientation': None, 'filepath': './Chest_CT_selected/TCGA-50-5936/190-Reformatted-57744/000084.dcm'}, {'SOPInstanceUID': '1.3.6.1.4.1.14519.5.2.1.6450.9002.214018613888848863168478365982', 'InstanceNumber': 91, 'ImagePosition': None, 'ImageOrientation': None, 'filepath': './Chest_CT_selected/TCGA-50-5936/190-Reformatted-57744/000090.dcm'}, {'SOPInstanceUID': '1.3.6.1.4.1.14519.5.2.1.6450.9002.252080292131749093991804629032', 'InstanceNumber': 92, 'ImagePosition': None, 'ImageOrientation': None, 'filepath': './Chest_CT_selected/TCGA-50-5936/190-Reformatted-57744/000091.dcm'}, {'SOPInstanceUID': '1.3.6.1.4.1.14519.5.2.1.6450.9002.159344886269237609776764395546', 'InstanceNumber': 86, 'ImagePosition': None, 'ImageOrientation': None, 'filepath': './Chest_CT_selected/TCGA-50-5936/190-Reformatted-57744/000085.dcm'}, {'SOPInstanceUID': '1.3.6.1.4.1.14519.5.2.1.6450.9002.695360120074514946223352172507', 'InstanceNumber': 53, 'ImagePosition': None, 'ImageOrientation': None, 'filepath': './Chest_CT_selected/TCGA-50-5936/190-Reformatted-57744/000052.dcm'}, {'SOPInstanceUID': '1.3.6.1.4.1.14519.5.2.1.6450.9002.532708835515737195089664971603', 'InstanceNumber': 47, 'ImagePosition': None, 'ImageOrientation': None, 'filepath': './Chest_CT_selected/TCGA-50-5936/190-Reformatted-57744/000046.dcm'}, {'SOPInstanceUID': '1.3.6.1.4.1.14519.5.2.1.6450.9002.164737705938287499448360990853', 'InstanceNumber': 127, 'ImagePosition': None, 'ImageOrientation': None, 'filepath': './Chest_CT_selected/TCGA-50-5936/190-Reformatted-57744/000126.dcm'}, {'SOPInstanceUID': '1.3.6.1.4.1.14519.5.2.1.6450.9002.187715659972929883952997367448', 'InstanceNumber': 133, 'ImagePosition': None, 'ImageOrientation': None, 'filepath': './Chest_CT_selected/TCGA-50-5936/190-Reformatted-57744/000132.dcm'}, {'SOPInstanceUID': '1.3.6.1.4.1.14519.5.2.1.6450.9002.586713263780539740611974326579', 'InstanceNumber': 119, 'ImagePosition': None, 'ImageOrientation': None, 'filepath': './Chest_CT_selected/TCGA-50-5936/190-Reformatted-57744/000118.dcm'}, {'SOPInstanceUID': '1.3.6.1.4.1.14519.5.2.1.6450.9002.307008868507434839832112244140', 'InstanceNumber': 125, 'ImagePosition': None, 'ImageOrientation': None, 'filepath': './Chest_CT_selected/TCGA-50-5936/190-Reformatted-57744/000124.dcm'}, {'SOPInstanceUID': '1.3.6.1.4.1.14519.5.2.1.6450.9002.175407805373835922597401189852', 'InstanceNumber': 131, 'ImagePosition': None, 'ImageOrientation': None, 'filepath': './Chest_CT_selected/TCGA-50-5936/190-Reformatted-57744/000130.dcm'}, {'SOPInstanceUID': '1.3.6.1.4.1.14519.5.2.1.6450.9002.328594875728711603633315682472', 'InstanceNumber': 79, 'ImagePosition': None, 'ImageOrientation': None, 'filepath': './Chest_CT_selected/TCGA-50-5936/190-Reformatted-57744/000078.dcm'}, {'SOPInstanceUID': '1.3.6.1.4.1.14519.5.2.1.6450.9002.301454790148467683516594076544', 'InstanceNumber': 51, 'ImagePosition': None, 'ImageOrientation': None, 'filepath': './Chest_CT_selected/TCGA-50-5936/190-Reformatted-57744/000050.dcm'}, {'SOPInstanceUID': '1.3.6.1.4.1.14519.5.2.1.6450.9002.302072495899304539980880782386', 'InstanceNumber': 45, 'ImagePosition': None, 'ImageOrientation': None, 'filepath': './Chest_CT_selected/TCGA-50-5936/190-Reformatted-57744/000044.dcm'}, {'SOPInstanceUID': '1.3.6.1.4.1.14519.5.2.1.6450.9002.122559192448092195380826758607', 'InstanceNumber': 94, 'ImagePosition': None, 'ImageOrientation': None, 'filepath': './Chest_CT_selected/TCGA-50-5936/190-Reformatted-57744/000093.dcm'}, {'SOPInstanceUID': '1.3.6.1.4.1.14519.5.2.1.6450.9002.145453258648791263746750963414', 'InstanceNumber': 88, 'ImagePosition': None, 'ImageOrientation': None, 'filepath': './Chest_CT_selected/TCGA-50-5936/190-Reformatted-57744/000087.dcm'}, {'SOPInstanceUID': '1.3.6.1.4.1.14519.5.2.1.6450.9002.725137576392866423950232579428', 'InstanceNumber': 87, 'ImagePosition': None, 'ImageOrientation': None, 'filepath': './Chest_CT_selected/TCGA-50-5936/190-Reformatted-57744/000086.dcm'}, {'SOPInstanceUID': '1.3.6.1.4.1.14519.5.2.1.6450.9002.111899903713907947787517488111', 'InstanceNumber': 93, 'ImagePosition': None, 'ImageOrientation': None, 'filepath': './Chest_CT_selected/TCGA-50-5936/190-Reformatted-57744/000092.dcm'}, {'SOPInstanceUID': '1.3.6.1.4.1.14519.5.2.1.6450.9002.251673768722404802511785257568', 'InstanceNumber': 46, 'ImagePosition': None, 'ImageOrientation': None, 'filepath': './Chest_CT_selected/TCGA-50-5936/190-Reformatted-57744/000045.dcm'}, {'SOPInstanceUID': '1.3.6.1.4.1.14519.5.2.1.6450.9002.799841985383040744856504509875', 'InstanceNumber': 52, 'ImagePosition': None, 'ImageOrientation': None, 'filepath': './Chest_CT_selected/TCGA-50-5936/190-Reformatted-57744/000051.dcm'}, {'SOPInstanceUID': '1.3.6.1.4.1.14519.5.2.1.6450.9002.315687067504879035769282598594', 'InstanceNumber': 80, 'ImagePosition': None, 'ImageOrientation': None, 'filepath': './Chest_CT_selected/TCGA-50-5936/190-Reformatted-57744/000079.dcm'}, {'SOPInstanceUID': '1.3.6.1.4.1.14519.5.2.1.6450.9002.321226868506850678808960247935', 'InstanceNumber': 132, 'ImagePosition': None, 'ImageOrientation': None, 'filepath': './Chest_CT_selected/TCGA-50-5936/190-Reformatted-57744/000131.dcm'}, {'SOPInstanceUID': '1.3.6.1.4.1.14519.5.2.1.6450.9002.638127295239241584187536419704', 'InstanceNumber': 126, 'ImagePosition': None, 'ImageOrientation': None, 'filepath': './Chest_CT_selected/TCGA-50-5936/190-Reformatted-57744/000125.dcm'}, {'SOPInstanceUID': '1.3.6.1.4.1.14519.5.2.1.6450.9002.109833283694018158772552924822', 'InstanceNumber': 120, 'ImagePosition': None, 'ImageOrientation': None, 'filepath': './Chest_CT_selected/TCGA-50-5936/190-Reformatted-57744/000119.dcm'}, {'SOPInstanceUID': '1.3.6.1.4.1.14519.5.2.1.6450.9002.170447476691220064186066397269', 'InstanceNumber': 122, 'ImagePosition': None, 'ImageOrientation': None, 'filepath': './Chest_CT_selected/TCGA-50-5936/190-Reformatted-57744/000121.dcm'}, {'SOPInstanceUID': '1.3.6.1.4.1.14519.5.2.1.6450.9002.336012649217105165999407026101', 'InstanceNumber': 136, 'ImagePosition': None, 'ImageOrientation': None, 'filepath': './Chest_CT_selected/TCGA-50-5936/190-Reformatted-57744/000135.dcm'}, {'SOPInstanceUID': '1.3.6.1.4.1.14519.5.2.1.6450.9002.126846261696403613292090891921', 'InstanceNumber': 110, 'ImagePosition': None, 'ImageOrientation': None, 'filepath': './Chest_CT_selected/TCGA-50-5936/190-Reformatted-57744/000109.dcm'}, {'SOPInstanceUID': '1.3.6.1.4.1.14519.5.2.1.6450.9002.745071572429302226488949718146', 'InstanceNumber': 56, 'ImagePosition': None, 'ImageOrientation': None, 'filepath': './Chest_CT_selected/TCGA-50-5936/190-Reformatted-57744/000055.dcm'}, {'SOPInstanceUID': '1.3.6.1.4.1.14519.5.2.1.6450.9002.181492783111890506556022802858', 'InstanceNumber': 42, 'ImagePosition': None, 'ImageOrientation': None, 'filepath': './Chest_CT_selected/TCGA-50-5936/190-Reformatted-57744/000041.dcm'}, {'SOPInstanceUID': '1.3.6.1.4.1.14519.5.2.1.6450.9002.333509435690920213358301854757', 'InstanceNumber': 70, 'ImagePosition': None, 'ImageOrientation': None, 'filepath': './Chest_CT_selected/TCGA-50-5936/190-Reformatted-57744/000069.dcm'}, {'SOPInstanceUID': '1.3.6.1.4.1.14519.5.2.1.6450.9002.121289863784484817544186273671', 'InstanceNumber': 97, 'ImagePosition': None, 'ImageOrientation': None, 'filepath': './Chest_CT_selected/TCGA-50-5936/190-Reformatted-57744/000096.dcm'}, {'SOPInstanceUID': '1.3.6.1.4.1.14519.5.2.1.6450.9002.296682218279015325365290288556', 'InstanceNumber': 83, 'ImagePosition': None, 'ImageOrientation': None, 'filepath': './Chest_CT_selected/TCGA-50-5936/190-Reformatted-57744/000082.dcm'}, {'SOPInstanceUID': '1.3.6.1.4.1.14519.5.2.1.6450.9002.115478723078815754103384759112', 'InstanceNumber': 84, 'ImagePosition': None, 'ImageOrientation': None, 'filepath': './Chest_CT_selected/TCGA-50-5936/190-Reformatted-57744/000083.dcm'}, {'SOPInstanceUID': '1.3.6.1.4.1.14519.5.2.1.6450.9002.948975779323484523866528552520', 'InstanceNumber': 98, 'ImagePosition': None, 'ImageOrientation': None, 'filepath': './Chest_CT_selected/TCGA-50-5936/190-Reformatted-57744/000097.dcm'}, {'SOPInstanceUID': '1.3.6.1.4.1.14519.5.2.1.6450.9002.301543238582255952898702263180', 'InstanceNumber': 69, 'ImagePosition': None, 'ImageOrientation': None, 'filepath': './Chest_CT_selected/TCGA-50-5936/190-Reformatted-57744/000068.dcm'}, {'SOPInstanceUID': '1.3.6.1.4.1.14519.5.2.1.6450.9002.306787277560028084554570180688', 'InstanceNumber': 41, 'ImagePosition': None, 'ImageOrientation': None, 'filepath': './Chest_CT_selected/TCGA-50-5936/190-Reformatted-57744/000040.dcm'}, {'SOPInstanceUID': '1.3.6.1.4.1.14519.5.2.1.6450.9002.138385033307044668864515757831', 'InstanceNumber': 55, 'ImagePosition': None, 'ImageOrientation': None, 'filepath': './Chest_CT_selected/TCGA-50-5936/190-Reformatted-57744/000054.dcm'}, {'SOPInstanceUID': '1.3.6.1.4.1.14519.5.2.1.6450.9002.152033979504147121435121166393', 'InstanceNumber': 109, 'ImagePosition': None, 'ImageOrientation': None, 'filepath': './Chest_CT_selected/TCGA-50-5936/190-Reformatted-57744/000108.dcm'}, {'SOPInstanceUID': '1.3.6.1.4.1.14519.5.2.1.6450.9002.301269607288744268425052836616', 'InstanceNumber': 134, 'ImagePosition': None, 'ImageOrientation': None, 'filepath': './Chest_CT_selected/TCGA-50-5936/190-Reformatted-57744/000134.dcm'}, {'SOPInstanceUID': '1.3.6.1.4.1.14519.5.2.1.6450.9002.275565512597325991404028355644', 'InstanceNumber': 121, 'ImagePosition': None, 'ImageOrientation': None, 'filepath': './Chest_CT_selected/TCGA-50-5936/190-Reformatted-57744/000120.dcm'}, {'SOPInstanceUID': '1.3.6.1.4.1.14519.5.2.1.6450.9002.188844899710683565609099633968', 'InstanceNumber': 137, 'ImagePosition': None, 'ImageOrientation': None, 'filepath': './Chest_CT_selected/TCGA-50-5936/190-Reformatted-57744/000136.dcm'}, {'SOPInstanceUID': '1.3.6.1.4.1.14519.5.2.1.6450.9002.875569923674451815769413622945', 'InstanceNumber': 123, 'ImagePosition': None, 'ImageOrientation': None, 'filepath': './Chest_CT_selected/TCGA-50-5936/190-Reformatted-57744/000122.dcm'}, {'SOPInstanceUID': '1.3.6.1.4.1.14519.5.2.1.6450.9002.598746402171308616584833498824', 'InstanceNumber': 43, 'ImagePosition': None, 'ImageOrientation': None, 'filepath': './Chest_CT_selected/TCGA-50-5936/190-Reformatted-57744/000042.dcm'}, {'SOPInstanceUID': '1.3.6.1.4.1.14519.5.2.1.6450.9002.160079803775956512340279455259', 'InstanceNumber': 57, 'ImagePosition': None, 'ImageOrientation': None, 'filepath': './Chest_CT_selected/TCGA-50-5936/190-Reformatted-57744/000056.dcm'}, {'SOPInstanceUID': '1.3.6.1.4.1.14519.5.2.1.6450.9002.189680834622847725154063643365', 'InstanceNumber': 82, 'ImagePosition': None, 'ImageOrientation': None, 'filepath': './Chest_CT_selected/TCGA-50-5936/190-Reformatted-57744/000081.dcm'}, {'SOPInstanceUID': '1.3.6.1.4.1.14519.5.2.1.6450.9002.544257608006732265381779711177', 'InstanceNumber': 96, 'ImagePosition': None, 'ImageOrientation': None, 'filepath': './Chest_CT_selected/TCGA-50-5936/190-Reformatted-57744/000095.dcm'}, {'SOPInstanceUID': '1.3.6.1.4.1.14519.5.2.1.6450.9002.285136816188670012007346542726', 'InstanceNumber': 95, 'ImagePosition': None, 'ImageOrientation': None, 'filepath': './Chest_CT_selected/TCGA-50-5936/190-Reformatted-57744/000094.dcm'}, {'SOPInstanceUID': '1.3.6.1.4.1.14519.5.2.1.6450.9002.208820383927868027503271469832', 'InstanceNumber': 81, 'ImagePosition': None, 'ImageOrientation': None, 'filepath': './Chest_CT_selected/TCGA-50-5936/190-Reformatted-57744/000080.dcm'}, {'SOPInstanceUID': '1.3.6.1.4.1.14519.5.2.1.6450.9002.193302410096071297814219336789', 'InstanceNumber': 58, 'ImagePosition': None, 'ImageOrientation': None, 'filepath': './Chest_CT_selected/TCGA-50-5936/190-Reformatted-57744/000057.dcm'}, {'SOPInstanceUID': '1.3.6.1.4.1.14519.5.2.1.6450.9002.220737879260863617827863306703', 'InstanceNumber': 44, 'ImagePosition': None, 'ImageOrientation': None, 'filepath': './Chest_CT_selected/TCGA-50-5936/190-Reformatted-57744/000043.dcm'}, {'SOPInstanceUID': '1.3.6.1.4.1.14519.5.2.1.6450.9002.290870618101008076481323058857', 'InstanceNumber': 124, 'ImagePosition': None, 'ImageOrientation': None, 'filepath': './Chest_CT_selected/TCGA-50-5936/190-Reformatted-57744/000123.dcm'}, {'SOPInstanceUID': '1.3.6.1.4.1.14519.5.2.1.6450.9002.241420828138457374124161941484', 'InstanceNumber': 138, 'ImagePosition': None, 'ImageOrientation': None, 'filepath': './Chest_CT_selected/TCGA-50-5936/190-Reformatted-57744/000137.dcm'}, {'SOPInstanceUID': '1.3.6.1.4.1.14519.5.2.1.6450.9002.315477341221229989288017744189', 'InstanceNumber': 179, 'ImagePosition': None, 'ImageOrientation': None, 'filepath': './Chest_CT_selected/TCGA-50-5936/190-Reformatted-57744/000178.dcm'}, {'SOPInstanceUID': '1.3.6.1.4.1.14519.5.2.1.6450.9002.101251435731750824225879333282', 'InstanceNumber': 151, 'ImagePosition': None, 'ImageOrientation': None, 'filepath': './Chest_CT_selected/TCGA-50-5936/190-Reformatted-57744/000150.dcm'}, {'SOPInstanceUID': '1.3.6.1.4.1.14519.5.2.1.6450.9002.486499969318043021003205849447', 'InstanceNumber': 145, 'ImagePosition': None, 'ImageOrientation': None, 'filepath': './Chest_CT_selected/TCGA-50-5936/190-Reformatted-57744/000144.dcm'}, {'SOPInstanceUID': '1.3.6.1.4.1.14519.5.2.1.6450.9002.239489567307135200649221911377', 'InstanceNumber': 194, 'ImagePosition': None, 'ImageOrientation': None, 'filepath': './Chest_CT_selected/TCGA-50-5936/190-Reformatted-57744/000193.dcm'}, {'SOPInstanceUID': '1.3.6.1.4.1.14519.5.2.1.6450.9002.113890208291709215561725258432', 'InstanceNumber': 188, 'ImagePosition': None, 'ImageOrientation': None, 'filepath': './Chest_CT_selected/TCGA-50-5936/190-Reformatted-57744/000187.dcm'}, {'SOPInstanceUID': '1.3.6.1.4.1.14519.5.2.1.6450.9002.184417346411632028823389125964', 'InstanceNumber': 19, 'ImagePosition': None, 'ImageOrientation': None, 'filepath': './Chest_CT_selected/TCGA-50-5936/190-Reformatted-57744/000018.dcm'}, {'SOPInstanceUID': '1.3.6.1.4.1.14519.5.2.1.6450.9002.146196128463856455548426690223', 'InstanceNumber': 25, 'ImagePosition': None, 'ImageOrientation': None, 'filepath': './Chest_CT_selected/TCGA-50-5936/190-Reformatted-57744/000024.dcm'}, {'SOPInstanceUID': '1.3.6.1.4.1.14519.5.2.1.6450.9002.122671358790616594423602238983', 'InstanceNumber': 33, 'ImagePosition': None, 'ImageOrientation': None, 'filepath': './Chest_CT_selected/TCGA-50-5936/190-Reformatted-57744/000030.dcm'}, {'SOPInstanceUID': '1.3.6.1.4.1.14519.5.2.1.6450.9002.135131604787590712524212565094', 'InstanceNumber': 32, 'ImagePosition': None, 'ImageOrientation': None, 'filepath': './Chest_CT_selected/TCGA-50-5936/190-Reformatted-57744/000031.dcm'}, {'SOPInstanceUID': '1.3.6.1.4.1.14519.5.2.1.6450.9002.221742305183537879536253093011', 'InstanceNumber': 26, 'ImagePosition': None, 'ImageOrientation': None, 'filepath': './Chest_CT_selected/TCGA-50-5936/190-Reformatted-57744/000025.dcm'}, {'SOPInstanceUID': '1.3.6.1.4.1.14519.5.2.1.6450.9002.218930302414095415974407617313', 'InstanceNumber': 20, 'ImagePosition': None, 'ImageOrientation': None, 'filepath': './Chest_CT_selected/TCGA-50-5936/190-Reformatted-57744/000019.dcm'}, {'SOPInstanceUID': '1.3.6.1.4.1.14519.5.2.1.6450.9002.135340307146439255397942604195', 'InstanceNumber': 187, 'ImagePosition': None, 'ImageOrientation': None, 'filepath': './Chest_CT_selected/TCGA-50-5936/190-Reformatted-57744/000186.dcm'}, {'SOPInstanceUID': '1.3.6.1.4.1.14519.5.2.1.6450.9002.149481022880743263735896740875', 'InstanceNumber': 193, 'ImagePosition': None, 'ImageOrientation': None, 'filepath': './Chest_CT_selected/TCGA-50-5936/190-Reformatted-57744/000192.dcm'}, {'SOPInstanceUID': '1.3.6.1.4.1.14519.5.2.1.6450.9002.201407188511030904967443794573', 'InstanceNumber': 146, 'ImagePosition': None, 'ImageOrientation': None, 'filepath': './Chest_CT_selected/TCGA-50-5936/190-Reformatted-57744/000145.dcm'}, {'SOPInstanceUID': '1.3.6.1.4.1.14519.5.2.1.6450.9002.761500131508567779466280360341', 'InstanceNumber': 152, 'ImagePosition': None, 'ImageOrientation': None, 'filepath': './Chest_CT_selected/TCGA-50-5936/190-Reformatted-57744/000151.dcm'}, {'SOPInstanceUID': '1.3.6.1.4.1.14519.5.2.1.6450.9002.135429220301864381068138875756', 'InstanceNumber': 180, 'ImagePosition': None, 'ImageOrientation': None, 'filepath': './Chest_CT_selected/TCGA-50-5936/190-Reformatted-57744/000179.dcm'}, {'SOPInstanceUID': '1.3.6.1.4.1.14519.5.2.1.6450.9002.712312933189055054150535838886', 'InstanceNumber': 148, 'ImagePosition': None, 'ImageOrientation': None, 'filepath': './Chest_CT_selected/TCGA-50-5936/190-Reformatted-57744/000147.dcm'}, {'SOPInstanceUID': '1.3.6.1.4.1.14519.5.2.1.6450.9002.204864348431767621297559198179', 'InstanceNumber': 154, 'ImagePosition': None, 'ImageOrientation': None, 'filepath': './Chest_CT_selected/TCGA-50-5936/190-Reformatted-57744/000153.dcm'}, {'SOPInstanceUID': '1.3.6.1.4.1.14519.5.2.1.6450.9002.171244797807908452833504797775', 'InstanceNumber': 185, 'ImagePosition': None, 'ImageOrientation': None, 'filepath': './Chest_CT_selected/TCGA-50-5936/190-Reformatted-57744/000184.dcm'}, {'SOPInstanceUID': '1.3.6.1.4.1.14519.5.2.1.6450.9002.195059571193366689082764863966', 'InstanceNumber': 191, 'ImagePosition': None, 'ImageOrientation': None, 'filepath': './Chest_CT_selected/TCGA-50-5936/190-Reformatted-57744/000190.dcm'}, {'SOPInstanceUID': '1.3.6.1.4.1.14519.5.2.1.6450.9002.261227509709022882554814039870', 'InstanceNumber': 220, 'ImagePosition': None, 'ImageOrientation': None, 'filepath': './Chest_CT_selected/TCGA-50-5936/190-Reformatted-57744/000219.dcm'}, {'SOPInstanceUID': '1.3.6.1.4.1.14519.5.2.1.6450.9002.102770080653504467557990170009', 'InstanceNumber': 34, 'ImagePosition': None, 'ImageOrientation': None, 'filepath': './Chest_CT_selected/TCGA-50-5936/190-Reformatted-57744/000033.dcm'}, {'SOPInstanceUID': '1.3.6.1.4.1.14519.5.2.1.6450.9002.197234805082935281865624426350', 'InstanceNumber': 28, 'ImagePosition': None, 'ImageOrientation': None, 'filepath': './Chest_CT_selected/TCGA-50-5936/190-Reformatted-57744/000027.dcm'}, {'SOPInstanceUID': '1.3.6.1.4.1.14519.5.2.1.6450.9002.230527479611724400457497532431', 'InstanceNumber': 27, 'ImagePosition': None, 'ImageOrientation': None, 'filepath': './Chest_CT_selected/TCGA-50-5936/190-Reformatted-57744/000026.dcm'}, {'SOPInstanceUID': '1.3.6.1.4.1.14519.5.2.1.6450.9002.144028899338553327915256201116', 'InstanceNumber': 31, 'ImagePosition': None, 'ImageOrientation': None, 'filepath': './Chest_CT_selected/TCGA-50-5936/190-Reformatted-57744/000032.dcm'}, {'SOPInstanceUID': '1.3.6.1.4.1.14519.5.2.1.6450.9002.117668795940992350244494569075', 'InstanceNumber': 225, 'ImagePosition': None, 'ImageOrientation': None, 'filepath': './Chest_CT_selected/TCGA-50-5936/190-Reformatted-57744/000224.dcm'}, {'SOPInstanceUID': '1.3.6.1.4.1.14519.5.2.1.6450.9002.167472715577227482757365542989', 'InstanceNumber': 219, 'ImagePosition': None, 'ImageOrientation': None, 'filepath': './Chest_CT_selected/TCGA-50-5936/190-Reformatted-57744/000218.dcm'}, {'SOPInstanceUID': '1.3.6.1.4.1.14519.5.2.1.6450.9002.290954340436475309376937140816', 'InstanceNumber': 192, 'ImagePosition': None, 'ImageOrientation': None, 'filepath': './Chest_CT_selected/TCGA-50-5936/190-Reformatted-57744/000191.dcm'}, {'SOPInstanceUID': '1.3.6.1.4.1.14519.5.2.1.6450.9002.110991494041385193884053762514', 'InstanceNumber': 186, 'ImagePosition': None, 'ImageOrientation': None, 'filepath': './Chest_CT_selected/TCGA-50-5936/190-Reformatted-57744/000185.dcm'}, {'SOPInstanceUID': '1.3.6.1.4.1.14519.5.2.1.6450.9002.721587940181959598125616715537', 'InstanceNumber': 153, 'ImagePosition': None, 'ImageOrientation': None, 'filepath': './Chest_CT_selected/TCGA-50-5936/190-Reformatted-57744/000152.dcm'}, {'SOPInstanceUID': '1.3.6.1.4.1.14519.5.2.1.6450.9002.234782145885220519972570834726', 'InstanceNumber': 147, 'ImagePosition': None, 'ImageOrientation': None, 'filepath': './Chest_CT_selected/TCGA-50-5936/190-Reformatted-57744/000146.dcm'}, {'SOPInstanceUID': '1.3.6.1.4.1.14519.5.2.1.6450.9002.206691242561756553104261649836', 'InstanceNumber': 143, 'ImagePosition': None, 'ImageOrientation': None, 'filepath': './Chest_CT_selected/TCGA-50-5936/190-Reformatted-57744/000142.dcm'}, {'SOPInstanceUID': '1.3.6.1.4.1.14519.5.2.1.6450.9002.217091456974505762375450354111', 'InstanceNumber': 157, 'ImagePosition': None, 'ImageOrientation': None, 'filepath': './Chest_CT_selected/TCGA-50-5936/190-Reformatted-57744/000156.dcm'}, {'SOPInstanceUID': '1.3.6.1.4.1.14519.5.2.1.6450.9002.135270062130990701190928111269', 'InstanceNumber': 182, 'ImagePosition': None, 'ImageOrientation': None, 'filepath': './Chest_CT_selected/TCGA-50-5936/190-Reformatted-57744/000181.dcm'}, {'SOPInstanceUID': '1.3.6.1.4.1.14519.5.2.1.6450.9002.564596239650744103559662912698', 'InstanceNumber': 196, 'ImagePosition': None, 'ImageOrientation': None, 'filepath': './Chest_CT_selected/TCGA-50-5936/190-Reformatted-57744/000195.dcm'}, {'SOPInstanceUID': '1.3.6.1.4.1.14519.5.2.1.6450.9002.251993321559934422865364118744', 'InstanceNumber': 221, 'ImagePosition': None, 'ImageOrientation': None, 'filepath': './Chest_CT_selected/TCGA-50-5936/190-Reformatted-57744/000220.dcm'}, {'SOPInstanceUID': '1.3.6.1.4.1.14519.5.2.1.6450.9002.321156714861403056339837289776', 'InstanceNumber': 209, 'ImagePosition': None, 'ImageOrientation': None, 'filepath': './Chest_CT_selected/TCGA-50-5936/190-Reformatted-57744/000208.dcm'}, {'SOPInstanceUID': '1.3.6.1.4.1.14519.5.2.1.6450.9002.219465577538591174690545838981', 'InstanceNumber': 37, 'ImagePosition': None, 'ImageOrientation': None, 'filepath': './Chest_CT_selected/TCGA-50-5936/190-Reformatted-57744/000036.dcm'}, {'SOPInstanceUID': '1.3.6.1.4.1.14519.5.2.1.6450.9002.204982219201895859714215815269', 'InstanceNumber': 23, 'ImagePosition': None, 'ImageOrientation': None, 'filepath': './Chest_CT_selected/TCGA-50-5936/190-Reformatted-57744/000022.dcm'}, {'SOPInstanceUID': '1.3.6.1.4.1.14519.5.2.1.6450.9002.335569631111384919409005975383', 'InstanceNumber': 24, 'ImagePosition': None, 'ImageOrientation': None, 'filepath': './Chest_CT_selected/TCGA-50-5936/190-Reformatted-57744/000023.dcm'}, {'SOPInstanceUID': '1.3.6.1.4.1.14519.5.2.1.6450.9002.215409513894136725155268075098', 'InstanceNumber': 38, 'ImagePosition': None, 'ImageOrientation': None, 'filepath': './Chest_CT_selected/TCGA-50-5936/190-Reformatted-57744/000037.dcm'}, {'SOPInstanceUID': '1.3.6.1.4.1.14519.5.2.1.6450.9002.233103809307615145372989891961', 'InstanceNumber': 210, 'ImagePosition': None, 'ImageOrientation': None, 'filepath': './Chest_CT_selected/TCGA-50-5936/190-Reformatted-57744/000209.dcm'}, {'SOPInstanceUID': '1.3.6.1.4.1.14519.5.2.1.6450.9002.291237833792909523273884402048', 'InstanceNumber': 222, 'ImagePosition': None, 'ImageOrientation': None, 'filepath': './Chest_CT_selected/TCGA-50-5936/190-Reformatted-57744/000221.dcm'}, {'SOPInstanceUID': '1.3.6.1.4.1.14519.5.2.1.6450.9002.220122630031154557720430379906', 'InstanceNumber': 195, 'ImagePosition': None, 'ImageOrientation': None, 'filepath': './Chest_CT_selected/TCGA-50-5936/190-Reformatted-57744/000194.dcm'}, {'SOPInstanceUID': '1.3.6.1.4.1.14519.5.2.1.6450.9002.252431266448023857041859473784', 'InstanceNumber': 181, 'ImagePosition': None, 'ImageOrientation': None, 'filepath': './Chest_CT_selected/TCGA-50-5936/190-Reformatted-57744/000180.dcm'}, {'SOPInstanceUID': '1.3.6.1.4.1.14519.5.2.1.6450.9002.228501197569819782423990402863', 'InstanceNumber': 158, 'ImagePosition': None, 'ImageOrientation': None, 'filepath': './Chest_CT_selected/TCGA-50-5936/190-Reformatted-57744/000157.dcm'}, {'SOPInstanceUID': '1.3.6.1.4.1.14519.5.2.1.6450.9002.285929594729951132738152818844', 'InstanceNumber': 144, 'ImagePosition': None, 'ImageOrientation': None, 'filepath': './Chest_CT_selected/TCGA-50-5936/190-Reformatted-57744/000143.dcm'}, {'SOPInstanceUID': '1.3.6.1.4.1.14519.5.2.1.6450.9002.216899640762792270290757550734', 'InstanceNumber': 156, 'ImagePosition': None, 'ImageOrientation': None, 'filepath': './Chest_CT_selected/TCGA-50-5936/190-Reformatted-57744/000155.dcm'}, {'SOPInstanceUID': '1.3.6.1.4.1.14519.5.2.1.6450.9002.257834678035405508531672024432', 'InstanceNumber': 142, 'ImagePosition': None, 'ImageOrientation': None, 'filepath': './Chest_CT_selected/TCGA-50-5936/190-Reformatted-57744/000141.dcm'}, {'SOPInstanceUID': '1.3.6.1.4.1.14519.5.2.1.6450.9002.194218405844764756008094974373', 'InstanceNumber': 170, 'ImagePosition': None, 'ImageOrientation': None, 'filepath': './Chest_CT_selected/TCGA-50-5936/190-Reformatted-57744/000169.dcm'}, {'SOPInstanceUID': '1.3.6.1.4.1.14519.5.2.1.6450.9002.361229953177485912778968610968', 'InstanceNumber': 197, 'ImagePosition': None, 'ImageOrientation': None, 'filepath': './Chest_CT_selected/TCGA-50-5936/190-Reformatted-57744/000196.dcm'}, {'SOPInstanceUID': '1.3.6.1.4.1.14519.5.2.1.6450.9002.290361056913137337454798075261', 'InstanceNumber': 183, 'ImagePosition': None, 'ImageOrientation': None, 'filepath': './Chest_CT_selected/TCGA-50-5936/190-Reformatted-57744/000182.dcm'}, {'SOPInstanceUID': '1.3.6.1.4.1.14519.5.2.1.6450.9002.277477515142826617154008508689', 'InstanceNumber': 224, 'ImagePosition': None, 'ImageOrientation': None, 'filepath': './Chest_CT_selected/TCGA-50-5936/190-Reformatted-57744/000223.dcm'}, {'SOPInstanceUID': '1.3.6.1.4.1.14519.5.2.1.6450.9002.557966635218295042379721484059', 'InstanceNumber': 22, 'ImagePosition': None, 'ImageOrientation': None, 'filepath': './Chest_CT_selected/TCGA-50-5936/190-Reformatted-57744/000021.dcm'}, {'SOPInstanceUID': '1.3.6.1.4.1.14519.5.2.1.6450.9002.309192386005405357609231011386', 'InstanceNumber': 36, 'ImagePosition': None, 'ImageOrientation': None, 'filepath': './Chest_CT_selected/TCGA-50-5936/190-Reformatted-57744/000035.dcm'}, {'SOPInstanceUID': '1.3.6.1.4.1.14519.5.2.1.6450.9002.272914071047599455312164258814', 'InstanceNumber': 10, 'ImagePosition': None, 'ImageOrientation': None, 'filepath': './Chest_CT_selected/TCGA-50-5936/190-Reformatted-57744/000009.dcm'}, {'SOPInstanceUID': '1.3.6.1.4.1.14519.5.2.1.6450.9002.170635216993596627835973851008', 'InstanceNumber': 9, 'ImagePosition': None, 'ImageOrientation': None, 'filepath': './Chest_CT_selected/TCGA-50-5936/190-Reformatted-57744/000008.dcm'}, {'SOPInstanceUID': '1.3.6.1.4.1.14519.5.2.1.6450.9002.166162006988043129748909994696', 'InstanceNumber': 35, 'ImagePosition': None, 'ImageOrientation': None, 'filepath': './Chest_CT_selected/TCGA-50-5936/190-Reformatted-57744/000034.dcm'}, {'SOPInstanceUID': '1.3.6.1.4.1.14519.5.2.1.6450.9002.717265018851364636915131705704', 'InstanceNumber': 21, 'ImagePosition': None, 'ImageOrientation': None, 'filepath': './Chest_CT_selected/TCGA-50-5936/190-Reformatted-57744/000020.dcm'}, {'SOPInstanceUID': '1.3.6.1.4.1.14519.5.2.1.6450.9002.221255061889319068097418339575', 'InstanceNumber': 223, 'ImagePosition': None, 'ImageOrientation': None, 'filepath': './Chest_CT_selected/TCGA-50-5936/190-Reformatted-57744/000222.dcm'}, {'SOPInstanceUID': '1.3.6.1.4.1.14519.5.2.1.6450.9002.652369745862333192141847922726', 'InstanceNumber': 184, 'ImagePosition': None, 'ImageOrientation': None, 'filepath': './Chest_CT_selected/TCGA-50-5936/190-Reformatted-57744/000183.dcm'}, {'SOPInstanceUID': '1.3.6.1.4.1.14519.5.2.1.6450.9002.295085222563181619911745463399', 'InstanceNumber': 198, 'ImagePosition': None, 'ImageOrientation': None, 'filepath': './Chest_CT_selected/TCGA-50-5936/190-Reformatted-57744/000197.dcm'}, {'SOPInstanceUID': '1.3.6.1.4.1.14519.5.2.1.6450.9002.177031507615794594562965286506', 'InstanceNumber': 166, 'ImagePosition': None, 'ImageOrientation': None, 'filepath': './Chest_CT_selected/TCGA-50-5936/190-Reformatted-57744/000168.dcm'}, {'SOPInstanceUID': '1.3.6.1.4.1.14519.5.2.1.6450.9002.701602483962361530883147356593', 'InstanceNumber': 141, 'ImagePosition': None, 'ImageOrientation': None, 'filepath': './Chest_CT_selected/TCGA-50-5936/190-Reformatted-57744/000140.dcm'}, {'SOPInstanceUID': '1.3.6.1.4.1.14519.5.2.1.6450.9002.929215143846183801647722181692', 'InstanceNumber': 155, 'ImagePosition': None, 'ImageOrientation': None, 'filepath': './Chest_CT_selected/TCGA-50-5936/190-Reformatted-57744/000154.dcm'}, {'SOPInstanceUID': '1.3.6.1.4.1.14519.5.2.1.6450.9002.402762728633108378975304712526', 'InstanceNumber': 160, 'ImagePosition': None, 'ImageOrientation': None, 'filepath': './Chest_CT_selected/TCGA-50-5936/190-Reformatted-57744/000159.dcm'}, {'SOPInstanceUID': '1.3.6.1.4.1.14519.5.2.1.6450.9002.183715469420428356773138278016', 'InstanceNumber': 172, 'ImagePosition': None, 'ImageOrientation': None, 'filepath': './Chest_CT_selected/TCGA-50-5936/190-Reformatted-57744/000171.dcm'}, {'SOPInstanceUID': '1.3.6.1.4.1.14519.5.2.1.6450.9002.171942017332772848215942074741', 'InstanceNumber': 169, 'ImagePosition': None, 'ImageOrientation': None, 'filepath': './Chest_CT_selected/TCGA-50-5936/190-Reformatted-57744/000165.dcm'}, {'SOPInstanceUID': '1.3.6.1.4.1.14519.5.2.1.6450.9002.378024126799257472592573681633', 'InstanceNumber': 208, 'ImagePosition': None, 'ImageOrientation': None, 'filepath': './Chest_CT_selected/TCGA-50-5936/190-Reformatted-57744/000207.dcm'}, {'SOPInstanceUID': '1.3.6.1.4.1.14519.5.2.1.6450.9002.982713210952229751451310075986', 'InstanceNumber': 214, 'ImagePosition': None, 'ImageOrientation': None, 'filepath': './Chest_CT_selected/TCGA-50-5936/190-Reformatted-57744/000213.dcm'}, {'SOPInstanceUID': '1.3.6.1.4.1.14519.5.2.1.6450.9002.178491198014784763227303417164', 'InstanceNumber': 40, 'ImagePosition': None, 'ImageOrientation': None, 'filepath': './Chest_CT_selected/TCGA-50-5936/190-Reformatted-57744/000039.dcm'}, {'SOPInstanceUID': '1.3.6.1.4.1.14519.5.2.1.6450.9002.296237510881731310008384689483', 'InstanceNumber': 6, 'ImagePosition': None, 'ImageOrientation': None, 'filepath': './Chest_CT_selected/TCGA-50-5936/190-Reformatted-57744/000005.dcm'}, {'SOPInstanceUID': '1.3.6.1.4.1.14519.5.2.1.6450.9002.108696650040301263558406312696', 'InstanceNumber': 12, 'ImagePosition': None, 'ImageOrientation': None, 'filepath': './Chest_CT_selected/TCGA-50-5936/190-Reformatted-57744/000011.dcm'}, {'SOPInstanceUID': '1.3.6.1.4.1.14519.5.2.1.6450.9002.913478783655668345326576488316', 'InstanceNumber': 11, 'ImagePosition': None, 'ImageOrientation': None, 'filepath': './Chest_CT_selected/TCGA-50-5936/190-Reformatted-57744/000010.dcm'}, {'SOPInstanceUID': '1.3.6.1.4.1.14519.5.2.1.6450.9002.224477154521149723492940695400', 'InstanceNumber': 5, 'ImagePosition': None, 'ImageOrientation': None, 'filepath': './Chest_CT_selected/TCGA-50-5936/190-Reformatted-57744/000004.dcm'}, {'SOPInstanceUID': '1.3.6.1.4.1.14519.5.2.1.6450.9002.285951548628390692757399522378', 'InstanceNumber': 39, 'ImagePosition': None, 'ImageOrientation': None, 'filepath': './Chest_CT_selected/TCGA-50-5936/190-Reformatted-57744/000038.dcm'}, {'SOPInstanceUID': '1.3.6.1.4.1.14519.5.2.1.6450.9002.337244861448859082494606067298', 'InstanceNumber': 213, 'ImagePosition': None, 'ImageOrientation': None, 'filepath': './Chest_CT_selected/TCGA-50-5936/190-Reformatted-57744/000212.dcm'}, {'SOPInstanceUID': '1.3.6.1.4.1.14519.5.2.1.6450.9002.334342960342141054447792517013', 'InstanceNumber': 207, 'ImagePosition': None, 'ImageOrientation': None, 'filepath': './Chest_CT_selected/TCGA-50-5936/190-Reformatted-57744/000206.dcm'}, {'SOPInstanceUID': '1.3.6.1.4.1.14519.5.2.1.6450.9002.280640584478574437093052588918', 'InstanceNumber': 165, 'ImagePosition': None, 'ImageOrientation': None, 'filepath': './Chest_CT_selected/TCGA-50-5936/190-Reformatted-57744/000164.dcm'}, {'SOPInstanceUID': '1.3.6.1.4.1.14519.5.2.1.6450.9002.213752882309001104364741961816', 'InstanceNumber': 171, 'ImagePosition': None, 'ImageOrientation': None, 'filepath': './Chest_CT_selected/TCGA-50-5936/190-Reformatted-57744/000170.dcm'}, {'SOPInstanceUID': '1.3.6.1.4.1.14519.5.2.1.6450.9002.386111748360771672348065588966', 'InstanceNumber': 159, 'ImagePosition': None, 'ImageOrientation': None, 'filepath': './Chest_CT_selected/TCGA-50-5936/190-Reformatted-57744/000158.dcm'}, {'SOPInstanceUID': '1.3.6.1.4.1.14519.5.2.1.6450.9002.205409609202591023769542021355', 'InstanceNumber': 168, 'ImagePosition': None, 'ImageOrientation': None, 'filepath': './Chest_CT_selected/TCGA-50-5936/190-Reformatted-57744/000166.dcm'}, {'SOPInstanceUID': '1.3.6.1.4.1.14519.5.2.1.6450.9002.317005848288133836823574835114', 'InstanceNumber': 173, 'ImagePosition': None, 'ImageOrientation': None, 'filepath': './Chest_CT_selected/TCGA-50-5936/190-Reformatted-57744/000172.dcm'}, {'SOPInstanceUID': '1.3.6.1.4.1.14519.5.2.1.6450.9002.719448074303623051362487861407', 'InstanceNumber': 200, 'ImagePosition': None, 'ImageOrientation': None, 'filepath': './Chest_CT_selected/TCGA-50-5936/190-Reformatted-57744/000199.dcm'}, {'SOPInstanceUID': '1.3.6.1.4.1.14519.5.2.1.6450.9002.112283792490990953479195629865', 'InstanceNumber': 211, 'ImagePosition': None, 'ImageOrientation': None, 'filepath': './Chest_CT_selected/TCGA-50-5936/190-Reformatted-57744/000210.dcm'}, {'SOPInstanceUID': '1.3.6.1.4.1.14519.5.2.1.6450.9002.113327040817007613801220067068', 'InstanceNumber': 205, 'ImagePosition': None, 'ImageOrientation': None, 'filepath': './Chest_CT_selected/TCGA-50-5936/190-Reformatted-57744/000204.dcm'}, {'SOPInstanceUID': '1.3.6.1.4.1.14519.5.2.1.6450.9002.935870284656056009087980171556', 'InstanceNumber': 13, 'ImagePosition': None, 'ImageOrientation': None, 'filepath': './Chest_CT_selected/TCGA-50-5936/190-Reformatted-57744/000012.dcm'}, {'SOPInstanceUID': '1.3.6.1.4.1.14519.5.2.1.6450.9002.205801328651965775650565253744', 'InstanceNumber': 7, 'ImagePosition': None, 'ImageOrientation': None, 'filepath': './Chest_CT_selected/TCGA-50-5936/190-Reformatted-57744/000006.dcm'}, {'SOPInstanceUID': '1.3.6.1.4.1.14519.5.2.1.6450.9002.118226409385662071530982358745', 'InstanceNumber': 8, 'ImagePosition': None, 'ImageOrientation': None, 'filepath': './Chest_CT_selected/TCGA-50-5936/190-Reformatted-57744/000007.dcm'}, {'SOPInstanceUID': '1.3.6.1.4.1.14519.5.2.1.6450.9002.921002557089863193064371661088', 'InstanceNumber': 14, 'ImagePosition': None, 'ImageOrientation': None, 'filepath': './Chest_CT_selected/TCGA-50-5936/190-Reformatted-57744/000013.dcm'}, {'SOPInstanceUID': '1.3.6.1.4.1.14519.5.2.1.6450.9002.578496630585827085322000425510', 'InstanceNumber': 206, 'ImagePosition': None, 'ImageOrientation': None, 'filepath': './Chest_CT_selected/TCGA-50-5936/190-Reformatted-57744/000205.dcm'}, {'SOPInstanceUID': '1.3.6.1.4.1.14519.5.2.1.6450.9002.401461261187759829888766699622', 'InstanceNumber': 212, 'ImagePosition': None, 'ImageOrientation': None, 'filepath': './Chest_CT_selected/TCGA-50-5936/190-Reformatted-57744/000211.dcm'}, {'SOPInstanceUID': '1.3.6.1.4.1.14519.5.2.1.6450.9002.198833311376888655139074742192', 'InstanceNumber': 199, 'ImagePosition': None, 'ImageOrientation': None, 'filepath': './Chest_CT_selected/TCGA-50-5936/190-Reformatted-57744/000198.dcm'}, {'SOPInstanceUID': '1.3.6.1.4.1.14519.5.2.1.6450.9002.244794155841075140629799629062', 'InstanceNumber': 174, 'ImagePosition': None, 'ImageOrientation': None, 'filepath': './Chest_CT_selected/TCGA-50-5936/190-Reformatted-57744/000173.dcm'}, {'SOPInstanceUID': '1.3.6.1.4.1.14519.5.2.1.6450.9002.664668462486563895551770310006', 'InstanceNumber': 167, 'ImagePosition': None, 'ImageOrientation': None, 'filepath': './Chest_CT_selected/TCGA-50-5936/190-Reformatted-57744/000167.dcm'}, {'SOPInstanceUID': '1.3.6.1.4.1.14519.5.2.1.6450.9002.118906808902172527672910751178', 'InstanceNumber': 164, 'ImagePosition': None, 'ImageOrientation': None, 'filepath': './Chest_CT_selected/TCGA-50-5936/190-Reformatted-57744/000163.dcm'}, {'SOPInstanceUID': '1.3.6.1.4.1.14519.5.2.1.6450.9002.158284689441492660652010682884', 'InstanceNumber': 178, 'ImagePosition': None, 'ImageOrientation': None, 'filepath': './Chest_CT_selected/TCGA-50-5936/190-Reformatted-57744/000177.dcm'}, {'SOPInstanceUID': '1.3.6.1.4.1.14519.5.2.1.6450.9002.316924601427140523742445189321', 'InstanceNumber': 189, 'ImagePosition': None, 'ImageOrientation': None, 'filepath': './Chest_CT_selected/TCGA-50-5936/190-Reformatted-57744/000188.dcm'}, {'SOPInstanceUID': '1.3.6.1.4.1.14519.5.2.1.6450.9002.489992728123315758106522205527', 'InstanceNumber': 216, 'ImagePosition': None, 'ImageOrientation': None, 'filepath': './Chest_CT_selected/TCGA-50-5936/190-Reformatted-57744/000215.dcm'}, {'SOPInstanceUID': '1.3.6.1.4.1.14519.5.2.1.6450.9002.185419756146629127003017315894', 'InstanceNumber': 202, 'ImagePosition': None, 'ImageOrientation': None, 'filepath': './Chest_CT_selected/TCGA-50-5936/190-Reformatted-57744/000201.dcm'}, {'SOPInstanceUID': '1.3.6.1.4.1.14519.5.2.1.6450.9002.121004057403468886743936775941', 'InstanceNumber': 18, 'ImagePosition': None, 'ImageOrientation': None, 'filepath': './Chest_CT_selected/TCGA-50-5936/190-Reformatted-57744/000017.dcm'}, {'SOPInstanceUID': '1.3.6.1.4.1.14519.5.2.1.6450.9002.181607018670872422338577550805', 'InstanceNumber': 4, 'ImagePosition': None, 'ImageOrientation': None, 'filepath': './Chest_CT_selected/TCGA-50-5936/190-Reformatted-57744/000003.dcm'}, {'SOPInstanceUID': '1.3.6.1.4.1.14519.5.2.1.6450.9002.691577260185872794835848085232', 'InstanceNumber': 3, 'ImagePosition': None, 'ImageOrientation': None, 'filepath': './Chest_CT_selected/TCGA-50-5936/190-Reformatted-57744/000002.dcm'}, {'SOPInstanceUID': '1.3.6.1.4.1.14519.5.2.1.6450.9002.317520980264906906173984368088', 'InstanceNumber': 17, 'ImagePosition': None, 'ImageOrientation': None, 'filepath': './Chest_CT_selected/TCGA-50-5936/190-Reformatted-57744/000016.dcm'}, {'SOPInstanceUID': '1.3.6.1.4.1.14519.5.2.1.6450.9002.168438729460786998918144827243', 'InstanceNumber': 201, 'ImagePosition': None, 'ImageOrientation': None, 'filepath': './Chest_CT_selected/TCGA-50-5936/190-Reformatted-57744/000200.dcm'}, {'SOPInstanceUID': '1.3.6.1.4.1.14519.5.2.1.6450.9002.135313700811711206623527585729', 'InstanceNumber': 215, 'ImagePosition': None, 'ImageOrientation': None, 'filepath': './Chest_CT_selected/TCGA-50-5936/190-Reformatted-57744/000214.dcm'}, {'SOPInstanceUID': '1.3.6.1.4.1.14519.5.2.1.6450.9002.208981590107851077756515787212', 'InstanceNumber': 190, 'ImagePosition': None, 'ImageOrientation': None, 'filepath': './Chest_CT_selected/TCGA-50-5936/190-Reformatted-57744/000189.dcm'}, {'SOPInstanceUID': '1.3.6.1.4.1.14519.5.2.1.6450.9002.203269929327344459473312849199', 'InstanceNumber': 177, 'ImagePosition': None, 'ImageOrientation': None, 'filepath': './Chest_CT_selected/TCGA-50-5936/190-Reformatted-57744/000176.dcm'}, {'SOPInstanceUID': '1.3.6.1.4.1.14519.5.2.1.6450.9002.537412461987631175284602462029', 'InstanceNumber': 163, 'ImagePosition': None, 'ImageOrientation': None, 'filepath': './Chest_CT_selected/TCGA-50-5936/190-Reformatted-57744/000162.dcm'}, {'SOPInstanceUID': '1.3.6.1.4.1.14519.5.2.1.6450.9002.340560638438803115155735825073', 'InstanceNumber': 175, 'ImagePosition': None, 'ImageOrientation': None, 'filepath': './Chest_CT_selected/TCGA-50-5936/190-Reformatted-57744/000174.dcm'}, {'SOPInstanceUID': '1.3.6.1.4.1.14519.5.2.1.6450.9002.144977210385116863626574682353', 'InstanceNumber': 162, 'ImagePosition': None, 'ImageOrientation': None, 'filepath': './Chest_CT_selected/TCGA-50-5936/190-Reformatted-57744/000160.dcm'}, {'SOPInstanceUID': '1.3.6.1.4.1.14519.5.2.1.6450.9002.776120111822586568467555776569', 'InstanceNumber': 149, 'ImagePosition': None, 'ImageOrientation': None, 'filepath': './Chest_CT_selected/TCGA-50-5936/190-Reformatted-57744/000148.dcm'}, {'SOPInstanceUID': '1.3.6.1.4.1.14519.5.2.1.6450.9002.491284752398389296932440260177', 'InstanceNumber': 203, 'ImagePosition': None, 'ImageOrientation': None, 'filepath': './Chest_CT_selected/TCGA-50-5936/190-Reformatted-57744/000202.dcm'}, {'SOPInstanceUID': '1.3.6.1.4.1.14519.5.2.1.6450.9002.304616907808796891700874835938', 'InstanceNumber': 217, 'ImagePosition': None, 'ImageOrientation': None, 'filepath': './Chest_CT_selected/TCGA-50-5936/190-Reformatted-57744/000216.dcm'}, {'SOPInstanceUID': '1.3.6.1.4.1.14519.5.2.1.6450.9002.201863710788851965528314396731', 'InstanceNumber': 1, 'ImagePosition': None, 'ImageOrientation': None, 'filepath': './Chest_CT_selected/TCGA-50-5936/190-Reformatted-57744/000000.dcm'}, {'SOPInstanceUID': '1.3.6.1.4.1.14519.5.2.1.6450.9002.256184421658978849159033769696', 'InstanceNumber': 15, 'ImagePosition': None, 'ImageOrientation': None, 'filepath': './Chest_CT_selected/TCGA-50-5936/190-Reformatted-57744/000014.dcm'}, {'SOPInstanceUID': '1.3.6.1.4.1.14519.5.2.1.6450.9002.171398447554807439783712052178', 'InstanceNumber': 29, 'ImagePosition': None, 'ImageOrientation': None, 'filepath': './Chest_CT_selected/TCGA-50-5936/190-Reformatted-57744/000028.dcm'}, {'SOPInstanceUID': '1.3.6.1.4.1.14519.5.2.1.6450.9002.194996882590445761718466026335', 'InstanceNumber': 30, 'ImagePosition': None, 'ImageOrientation': None, 'filepath': './Chest_CT_selected/TCGA-50-5936/190-Reformatted-57744/000029.dcm'}, {'SOPInstanceUID': '1.3.6.1.4.1.14519.5.2.1.6450.9002.498974397680916931875602562149', 'InstanceNumber': 16, 'ImagePosition': None, 'ImageOrientation': None, 'filepath': './Chest_CT_selected/TCGA-50-5936/190-Reformatted-57744/000015.dcm'}, {'SOPInstanceUID': '1.3.6.1.4.1.14519.5.2.1.6450.9002.116600950620021860116095574039', 'InstanceNumber': 2, 'ImagePosition': None, 'ImageOrientation': None, 'filepath': './Chest_CT_selected/TCGA-50-5936/190-Reformatted-57744/000001.dcm'}, {'SOPInstanceUID': '1.3.6.1.4.1.14519.5.2.1.6450.9002.101234158585057446983762255693', 'InstanceNumber': 218, 'ImagePosition': None, 'ImageOrientation': None, 'filepath': './Chest_CT_selected/TCGA-50-5936/190-Reformatted-57744/000217.dcm'}, {'SOPInstanceUID': '1.3.6.1.4.1.14519.5.2.1.6450.9002.332047268083103975624333764925', 'InstanceNumber': 204, 'ImagePosition': None, 'ImageOrientation': None, 'filepath': './Chest_CT_selected/TCGA-50-5936/190-Reformatted-57744/000203.dcm'}, {'SOPInstanceUID': '1.3.6.1.4.1.14519.5.2.1.6450.9002.280281758677272851808969611007', 'InstanceNumber': 150, 'ImagePosition': None, 'ImageOrientation': None, 'filepath': './Chest_CT_selected/TCGA-50-5936/190-Reformatted-57744/000149.dcm'}, {'SOPInstanceUID': '1.3.6.1.4.1.14519.5.2.1.6450.9002.197404842314801503287345961345', 'InstanceNumber': 161, 'ImagePosition': None, 'ImageOrientation': None, 'filepath': './Chest_CT_selected/TCGA-50-5936/190-Reformatted-57744/000161.dcm'}, {'SOPInstanceUID': '1.3.6.1.4.1.14519.5.2.1.6450.9002.881261733534878874479491523092', 'InstanceNumber': 176, 'ImagePosition': None, 'ImageOrientation': None, 'filepath': './Chest_CT_selected/TCGA-50-5936/190-Reformatted-57744/000175.dcm'}, {'SOPInstanceUID': '1.3.6.1.4.1.14519.5.2.1.6450.9002.658998752329511558048967328701', 'InstanceNumber': 113, 'ImagePosition': None, 'ImageOrientation': None, 'filepath': './Chest_CT_selected/TCGA-50-5936/190-Reformatted-57744/000112.dcm'}, {'SOPInstanceUID': '1.3.6.1.4.1.14519.5.2.1.6450.9002.255491497551301933679772827737', 'InstanceNumber': 106, 'ImagePosition': None, 'ImageOrientation': None, 'filepath': './Chest_CT_selected/TCGA-50-5936/190-Reformatted-57744/000106.dcm'}, {'SOPInstanceUID': '1.3.6.1.4.1.14519.5.2.1.6450.9002.341785688238534751392734913616', 'InstanceNumber': 67, 'ImagePosition': None, 'ImageOrientation': None, 'filepath': './Chest_CT_selected/TCGA-50-5936/190-Reformatted-57744/000066.dcm'}, {'SOPInstanceUID': '1.3.6.1.4.1.14519.5.2.1.6450.9002.295090400217541887436567986310', 'InstanceNumber': 73, 'ImagePosition': None, 'ImageOrientation': None, 'filepath': './Chest_CT_selected/TCGA-50-5936/190-Reformatted-57744/000072.dcm'}, {'SOPInstanceUID': '1.3.6.1.4.1.14519.5.2.1.6450.9002.819284409873666560270713216013', 'InstanceNumber': 100, 'ImagePosition': None, 'ImageOrientation': None, 'filepath': './Chest_CT_selected/TCGA-50-5936/190-Reformatted-57744/000099.dcm'}, {'SOPInstanceUID': '1.3.6.1.4.1.14519.5.2.1.6450.9002.312631289128955279281333568172', 'InstanceNumber': 99, 'ImagePosition': None, 'ImageOrientation': None, 'filepath': './Chest_CT_selected/TCGA-50-5936/190-Reformatted-57744/000098.dcm'}, {'SOPInstanceUID': '1.3.6.1.4.1.14519.5.2.1.6450.9002.230005216008566921486020565316', 'InstanceNumber': 74, 'ImagePosition': None, 'ImageOrientation': None, 'filepath': './Chest_CT_selected/TCGA-50-5936/190-Reformatted-57744/000073.dcm'}, {'SOPInstanceUID': '1.3.6.1.4.1.14519.5.2.1.6450.9002.267890644125683496443644676101', 'InstanceNumber': 68, 'ImagePosition': None, 'ImageOrientation': None, 'filepath': './Chest_CT_selected/TCGA-50-5936/190-Reformatted-57744/000067.dcm'}, {'SOPInstanceUID': '1.3.6.1.4.1.14519.5.2.1.6450.9002.199685029119410948803628719826', 'InstanceNumber': 108, 'ImagePosition': None, 'ImageOrientation': None, 'filepath': './Chest_CT_selected/TCGA-50-5936/190-Reformatted-57744/000107.dcm'}, {'SOPInstanceUID': '1.3.6.1.4.1.14519.5.2.1.6450.9002.819971817315689627444829131011', 'InstanceNumber': 114, 'ImagePosition': None, 'ImageOrientation': None, 'filepath': './Chest_CT_selected/TCGA-50-5936/190-Reformatted-57744/000113.dcm'}, {'SOPInstanceUID': '1.3.6.1.4.1.14519.5.2.1.6450.9002.172770473098474605767026816386', 'InstanceNumber': 140, 'ImagePosition': None, 'ImageOrientation': None, 'filepath': './Chest_CT_selected/TCGA-50-5936/190-Reformatted-57744/000139.dcm'}, {'SOPInstanceUID': '1.3.6.1.4.1.14519.5.2.1.6450.9002.635147257405099183623811480264', 'InstanceNumber': 107, 'ImagePosition': None, 'ImageOrientation': None, 'filepath': './Chest_CT_selected/TCGA-50-5936/190-Reformatted-57744/000105.dcm'}, {'SOPInstanceUID': '1.3.6.1.4.1.14519.5.2.1.6450.9002.170103339587095960735819424290', 'InstanceNumber': 112, 'ImagePosition': None, 'ImageOrientation': None, 'filepath': './Chest_CT_selected/TCGA-50-5936/190-Reformatted-57744/000111.dcm'}, {'SOPInstanceUID': '1.3.6.1.4.1.14519.5.2.1.6450.9002.256004256284565772467310633589', 'InstanceNumber': 60, 'ImagePosition': None, 'ImageOrientation': None, 'filepath': './Chest_CT_selected/TCGA-50-5936/190-Reformatted-57744/000059.dcm'}, {'SOPInstanceUID': '1.3.6.1.4.1.14519.5.2.1.6450.9002.162114177153549024758650453066', 'InstanceNumber': 72, 'ImagePosition': None, 'ImageOrientation': None, 'filepath': './Chest_CT_selected/TCGA-50-5936/190-Reformatted-57744/000071.dcm'}, {'SOPInstanceUID': '1.3.6.1.4.1.14519.5.2.1.6450.9002.308045130042714813182413461301', 'InstanceNumber': 66, 'ImagePosition': None, 'ImageOrientation': None, 'filepath': './Chest_CT_selected/TCGA-50-5936/190-Reformatted-57744/000065.dcm'}, {'SOPInstanceUID': '1.3.6.1.4.1.14519.5.2.1.6450.9002.254517548135951258183250178647', 'InstanceNumber': 65, 'ImagePosition': None, 'ImageOrientation': None, 'filepath': './Chest_CT_selected/TCGA-50-5936/190-Reformatted-57744/000064.dcm'}, {'SOPInstanceUID': '1.3.6.1.4.1.14519.5.2.1.6450.9002.824562832388542024984857769222', 'InstanceNumber': 71, 'ImagePosition': None, 'ImageOrientation': None, 'filepath': './Chest_CT_selected/TCGA-50-5936/190-Reformatted-57744/000070.dcm'}, {'SOPInstanceUID': '1.3.6.1.4.1.14519.5.2.1.6450.9002.123394543677567693524371629830', 'InstanceNumber': 59, 'ImagePosition': None, 'ImageOrientation': None, 'filepath': './Chest_CT_selected/TCGA-50-5936/190-Reformatted-57744/000058.dcm'}, {'SOPInstanceUID': '1.3.6.1.4.1.14519.5.2.1.6450.9002.221479830108774293244346526935', 'InstanceNumber': 111, 'ImagePosition': None, 'ImageOrientation': None, 'filepath': './Chest_CT_selected/TCGA-50-5936/190-Reformatted-57744/000110.dcm'}, {'SOPInstanceUID': '1.3.6.1.4.1.14519.5.2.1.6450.9002.197631981664409071455277783551', 'InstanceNumber': 105, 'ImagePosition': None, 'ImageOrientation': None, 'filepath': './Chest_CT_selected/TCGA-50-5936/190-Reformatted-57744/000104.dcm'}, {'SOPInstanceUID': '1.3.6.1.4.1.14519.5.2.1.6450.9002.977869317387987650070160779215', 'InstanceNumber': 139, 'ImagePosition': None, 'ImageOrientation': None, 'filepath': './Chest_CT_selected/TCGA-50-5936/190-Reformatted-57744/000138.dcm'}, {'SOPInstanceUID': '1.3.6.1.4.1.14519.5.2.1.6450.9002.113252965115263931190345066329', 'InstanceNumber': 101, 'ImagePosition': None, 'ImageOrientation': None, 'filepath': './Chest_CT_selected/TCGA-50-5936/190-Reformatted-57744/000100.dcm'}, {'SOPInstanceUID': '1.3.6.1.4.1.14519.5.2.1.6450.9002.191293999165012823825920829160', 'InstanceNumber': 115, 'ImagePosition': None, 'ImageOrientation': None, 'filepath': './Chest_CT_selected/TCGA-50-5936/190-Reformatted-57744/000114.dcm'}, {'SOPInstanceUID': '1.3.6.1.4.1.14519.5.2.1.6450.9002.725382825772300631498331597947', 'InstanceNumber': 129, 'ImagePosition': None, 'ImageOrientation': None, 'filepath': './Chest_CT_selected/TCGA-50-5936/190-Reformatted-57744/000128.dcm'}, {'SOPInstanceUID': '1.3.6.1.4.1.14519.5.2.1.6450.9002.178857116732596850570401078366', 'InstanceNumber': 75, 'ImagePosition': None, 'ImageOrientation': None, 'filepath': './Chest_CT_selected/TCGA-50-5936/190-Reformatted-57744/000074.dcm'}, {'SOPInstanceUID': '1.3.6.1.4.1.14519.5.2.1.6450.9002.860673879737645481612363845725', 'InstanceNumber': 62, 'ImagePosition': None, 'ImageOrientation': None, 'filepath': './Chest_CT_selected/TCGA-50-5936/190-Reformatted-57744/000060.dcm'}, {'SOPInstanceUID': '1.3.6.1.4.1.14519.5.2.1.6450.9002.111844418843504828828205549346', 'InstanceNumber': 49, 'ImagePosition': None, 'ImageOrientation': None, 'filepath': './Chest_CT_selected/TCGA-50-5936/190-Reformatted-57744/000048.dcm'}, {'SOPInstanceUID': '1.3.6.1.4.1.14519.5.2.1.6450.9002.653999719993904366801243106629', 'InstanceNumber': 50, 'ImagePosition': None, 'ImageOrientation': None, 'filepath': './Chest_CT_selected/TCGA-50-5936/190-Reformatted-57744/000049.dcm'}, {'SOPInstanceUID': '1.3.6.1.4.1.14519.5.2.1.6450.9002.207697882248500465506962109969', 'InstanceNumber': 61, 'ImagePosition': None, 'ImageOrientation': None, 'filepath': './Chest_CT_selected/TCGA-50-5936/190-Reformatted-57744/000061.dcm'}, {'SOPInstanceUID': '1.3.6.1.4.1.14519.5.2.1.6450.9002.303837005387859006061844212239', 'InstanceNumber': 76, 'ImagePosition': None, 'ImageOrientation': None, 'filepath': './Chest_CT_selected/TCGA-50-5936/190-Reformatted-57744/000075.dcm'}, {'SOPInstanceUID': '1.3.6.1.4.1.14519.5.2.1.6450.9002.323078715932560457179602011304', 'InstanceNumber': 130, 'ImagePosition': None, 'ImageOrientation': None, 'filepath': './Chest_CT_selected/TCGA-50-5936/190-Reformatted-57744/000129.dcm'}, {'SOPInstanceUID': '1.3.6.1.4.1.14519.5.2.1.6450.9002.135512826194008809442273549372', 'InstanceNumber': 116, 'ImagePosition': None, 'ImageOrientation': None, 'filepath': './Chest_CT_selected/TCGA-50-5936/190-Reformatted-57744/000115.dcm'}, {'SOPInstanceUID': '1.3.6.1.4.1.14519.5.2.1.6450.9002.105357491901115027348214406024', 'InstanceNumber': 102, 'ImagePosition': None, 'ImageOrientation': None, 'filepath': './Chest_CT_selected/TCGA-50-5936/190-Reformatted-57744/000101.dcm'}, {'SOPInstanceUID': '1.3.6.1.4.1.14519.5.2.1.6450.9002.877625222323796715972886839147', 'InstanceNumber': 118, 'ImagePosition': None, 'ImageOrientation': None, 'filepath': './Chest_CT_selected/TCGA-50-5936/190-Reformatted-57744/000117.dcm'}, {'SOPInstanceUID': '1.3.6.1.4.1.14519.5.2.1.6450.9002.226478090984916838870049348661', 'InstanceNumber': 104, 'ImagePosition': None, 'ImageOrientation': None, 'filepath': './Chest_CT_selected/TCGA-50-5936/190-Reformatted-57744/000103.dcm'}, {'SOPInstanceUID': '1.3.6.1.4.1.14519.5.2.1.6450.9002.114690356352976252302515240950', 'InstanceNumber': 64, 'ImagePosition': None, 'ImageOrientation': None, 'filepath': './Chest_CT_selected/TCGA-50-5936/190-Reformatted-57744/000063.dcm'}, {'SOPInstanceUID': '1.3.6.1.4.1.14519.5.2.1.6450.9002.276525808519822711810146928303', 'InstanceNumber': 78, 'ImagePosition': None, 'ImageOrientation': None, 'filepath': './Chest_CT_selected/TCGA-50-5936/190-Reformatted-57744/000077.dcm'}, {'SOPInstanceUID': '1.3.6.1.4.1.14519.5.2.1.6450.9002.116912724567696607707349053636', 'InstanceNumber': 89, 'ImagePosition': None, 'ImageOrientation': None, 'filepath': './Chest_CT_selected/TCGA-50-5936/190-Reformatted-57744/000088.dcm'}, {'SOPInstanceUID': '1.3.6.1.4.1.14519.5.2.1.6450.9002.188607724875874547367846795781', 'InstanceNumber': 90, 'ImagePosition': None, 'ImageOrientation': None, 'filepath': './Chest_CT_selected/TCGA-50-5936/190-Reformatted-57744/000089.dcm'}, {'SOPInstanceUID': '1.3.6.1.4.1.14519.5.2.1.6450.9002.897493204746903022884372463655', 'InstanceNumber': 77, 'ImagePosition': None, 'ImageOrientation': None, 'filepath': './Chest_CT_selected/TCGA-50-5936/190-Reformatted-57744/000076.dcm'}, {'SOPInstanceUID': '1.3.6.1.4.1.14519.5.2.1.6450.9002.159531846524531978582456538105', 'InstanceNumber': 63, 'ImagePosition': None, 'ImageOrientation': None, 'filepath': './Chest_CT_selected/TCGA-50-5936/190-Reformatted-57744/000062.dcm'}, {'SOPInstanceUID': '1.3.6.1.4.1.14519.5.2.1.6450.9002.288174759855073754916199297203', 'InstanceNumber': 103, 'ImagePosition': None, 'ImageOrientation': None, 'filepath': './Chest_CT_selected/TCGA-50-5936/190-Reformatted-57744/000102.dcm'}, {'SOPInstanceUID': '1.3.6.1.4.1.14519.5.2.1.6450.9002.287086580722286223267277225590', 'InstanceNumber': 117, 'ImagePosition': None, 'ImageOrientation': None, 'filepath': './Chest_CT_selected/TCGA-50-5936/190-Reformatted-57744/000116.dcm'}]}]}]}, {'PatientID': 'TCGA-17-Z019', 'PatientName': 'TCGA-17-Z019', 'children': [{'StudyInstanceUID': '1.3.6.1.4.1.14519.5.2.1.7777.9002.233123708853610798929346174556', 'StudyID': '', 'StudyDate': '19821127', 'StudyDescription': None, 'children': [{'SeriesInstanceUID': '1.3.6.1.4.1.14519.5.2.1.7777.9002.182050713312212959440141836091', 'SeriesNumber': 3, 'Modality': 'CT', 'SeriesDescription': 'Chest Routine #2', 'children': [{'SOPInstanceUID': '1.3.6.1.4.1.14519.5.2.1.7777.9002.760812108740673900015352118336', 'InstanceNumber': 48, 'ImagePosition': [-176, -176, 0], 'ImageOrientation': [1, 0, 0, 0, 1, 0], 'filepath': './Chest_CT_selected/TCGA-17-Z019/3-Chest Routine 2-36091/000047.dcm'}, {'SOPInstanceUID': '1.3.6.1.4.1.14519.5.2.1.7777.9002.243366787218643959962106118698', 'InstanceNumber': 54, 'ImagePosition': [-176, -176, 0], 'ImageOrientation': [1, 0, 0, 0, 1, 0], 'filepath': './Chest_CT_selected/TCGA-17-Z019/3-Chest Routine 2-36091/000053.dcm'}, {'SOPInstanceUID': '1.3.6.1.4.1.14519.5.2.1.7777.9002.170000800431721494974584888353', 'InstanceNumber': 53, 'ImagePosition': [-176, -176, 0], 'ImageOrientation': [1, 0, 0, 0, 1, 0], 'filepath': './Chest_CT_selected/TCGA-17-Z019/3-Chest Routine 2-36091/000052.dcm'}, {'SOPInstanceUID': '1.3.6.1.4.1.14519.5.2.1.7777.9002.700510131460533452446891955052', 'InstanceNumber': 47, 'ImagePosition': [-176, -176, 0], 'ImageOrientation': [1, 0, 0, 0, 1, 0], 'filepath': './Chest_CT_selected/TCGA-17-Z019/3-Chest Routine 2-36091/000046.dcm'}, {'SOPInstanceUID': '1.3.6.1.4.1.14519.5.2.1.7777.9002.200492326091832420829010960164', 'InstanceNumber': 51, 'ImagePosition': [-176, -176, 0], 'ImageOrientation': [1, 0, 0, 0, 1, 0], 'filepath': './Chest_CT_selected/TCGA-17-Z019/3-Chest Routine 2-36091/000050.dcm'}, {'SOPInstanceUID': '1.3.6.1.4.1.14519.5.2.1.7777.9002.281236809445132933575830919932', 'InstanceNumber': 45, 'ImagePosition': [-176, -176, 0], 'ImageOrientation': [1, 0, 0, 0, 1, 0], 'filepath': './Chest_CT_selected/TCGA-17-Z019/3-Chest Routine 2-36091/000044.dcm'}, {'SOPInstanceUID': '1.3.6.1.4.1.14519.5.2.1.7777.9002.298301936466303841400106433352', 'InstanceNumber': 46, 'ImagePosition': [-176, -176, 0], 'ImageOrientation': [1, 0, 0, 0, 1, 0], 'filepath': './Chest_CT_selected/TCGA-17-Z019/3-Chest Routine 2-36091/000045.dcm'}, {'SOPInstanceUID': '1.3.6.1.4.1.14519.5.2.1.7777.9002.220584046805755669556271055912', 'InstanceNumber': 52, 'ImagePosition': [-176, -176, 0], 'ImageOrientation': [1, 0, 0, 0, 1, 0], 'filepath': './Chest_CT_selected/TCGA-17-Z019/3-Chest Routine 2-36091/000051.dcm'}, {'SOPInstanceUID': '1.3.6.1.4.1.14519.5.2.1.7777.9002.187481331013517677479757489090', 'InstanceNumber': 56, 'ImagePosition': [-176, -176, 0], 'ImageOrientation': [1, 0, 0, 0, 1, 0], 'filepath': './Chest_CT_selected/TCGA-17-Z019/3-Chest Routine 2-36091/000055.dcm'}, {'SOPInstanceUID': '1.3.6.1.4.1.14519.5.2.1.7777.9002.285917004714901460236176344914', 'InstanceNumber': 42, 'ImagePosition': [-176, -176, 0], 'ImageOrientation': [1, 0, 0, 0, 1, 0], 'filepath': './Chest_CT_selected/TCGA-17-Z019/3-Chest Routine 2-36091/000041.dcm'}, {'SOPInstanceUID': '1.3.6.1.4.1.14519.5.2.1.7777.9002.352875567377418635470081409902', 'InstanceNumber': 41, 'ImagePosition': [-176, -176, 0], 'ImageOrientation': [1, 0, 0, 0, 1, 0], 'filepath': './Chest_CT_selected/TCGA-17-Z019/3-Chest Routine 2-36091/000040.dcm'}, {'SOPInstanceUID': '1.3.6.1.4.1.14519.5.2.1.7777.9002.131014754431898316876709304258', 'InstanceNumber': 55, 'ImagePosition': [-176, -176, 0], 'ImageOrientation': [1, 0, 0, 0, 1, 0], 'filepath': './Chest_CT_selected/TCGA-17-Z019/3-Chest Routine 2-36091/000054.dcm'}, {'SOPInstanceUID': '1.3.6.1.4.1.14519.5.2.1.7777.9002.154246759861448067333247970879', 'InstanceNumber': 43, 'ImagePosition': [-176, -176, 0], 'ImageOrientation': [1, 0, 0, 0, 1, 0], 'filepath': './Chest_CT_selected/TCGA-17-Z019/3-Chest Routine 2-36091/000042.dcm'}, {'SOPInstanceUID': '1.3.6.1.4.1.14519.5.2.1.7777.9002.107024226339853584540547830023', 'InstanceNumber': 57, 'ImagePosition': [-176, -176, 0], 'ImageOrientation': [1, 0, 0, 0, 1, 0], 'filepath': './Chest_CT_selected/TCGA-17-Z019/3-Chest Routine 2-36091/000056.dcm'}, {'SOPInstanceUID': '1.3.6.1.4.1.14519.5.2.1.7777.9002.272874971337773938288290897402', 'InstanceNumber': 58, 'ImagePosition': [-176, -176, 0], 'ImageOrientation': [1, 0, 0, 0, 1, 0], 'filepath': './Chest_CT_selected/TCGA-17-Z019/3-Chest Routine 2-36091/000057.dcm'}, {'SOPInstanceUID': '1.3.6.1.4.1.14519.5.2.1.7777.9002.337315024867334216279245794280', 'InstanceNumber': 44, 'ImagePosition': [-176, -176, 0], 'ImageOrientation': [1, 0, 0, 0, 1, 0], 'filepath': './Chest_CT_selected/TCGA-17-Z019/3-Chest Routine 2-36091/000043.dcm'}, {'SOPInstanceUID': '1.3.6.1.4.1.14519.5.2.1.7777.9002.316903663683332150058649817369', 'InstanceNumber': 19, 'ImagePosition': [-176, -176, 0], 'ImageOrientation': [1, 0, 0, 0, 1, 0], 'filepath': './Chest_CT_selected/TCGA-17-Z019/3-Chest Routine 2-36091/000018.dcm'}, {'SOPInstanceUID': '1.3.6.1.4.1.14519.5.2.1.7777.9002.194905182016258937057123078897', 'InstanceNumber': 25, 'ImagePosition': [-176, -176, 0], 'ImageOrientation': [1, 0, 0, 0, 1, 0], 'filepath': './Chest_CT_selected/TCGA-17-Z019/3-Chest Routine 2-36091/000024.dcm'}, {'SOPInstanceUID': '1.3.6.1.4.1.14519.5.2.1.7777.9002.191467097358869924325874715060', 'InstanceNumber': 31, 'ImagePosition': [-176, -176, 0], 'ImageOrientation': [1, 0, 0, 0, 1, 0], 'filepath': './Chest_CT_selected/TCGA-17-Z019/3-Chest Routine 2-36091/000030.dcm'}, {'SOPInstanceUID': '1.3.6.1.4.1.14519.5.2.1.7777.9002.192847469894884392268348978675', 'InstanceNumber': 32, 'ImagePosition': [-176, -176, 0], 'ImageOrientation': [1, 0, 0, 0, 1, 0], 'filepath': './Chest_CT_selected/TCGA-17-Z019/3-Chest Routine 2-36091/000031.dcm'}, {'SOPInstanceUID': '1.3.6.1.4.1.14519.5.2.1.7777.9002.151734861748463618373239076886', 'InstanceNumber': 26, 'ImagePosition': [-176, -176, 0], 'ImageOrientation': [1, 0, 0, 0, 1, 0], 'filepath': './Chest_CT_selected/TCGA-17-Z019/3-Chest Routine 2-36091/000025.dcm'}, {'SOPInstanceUID': '1.3.6.1.4.1.14519.5.2.1.7777.9002.148675376296708856201171691073', 'InstanceNumber': 20, 'ImagePosition': [-176, -176, 0], 'ImageOrientation': [1, 0, 0, 0, 1, 0], 'filepath': './Chest_CT_selected/TCGA-17-Z019/3-Chest Routine 2-36091/000019.dcm'}, {'SOPInstanceUID': '1.3.6.1.4.1.14519.5.2.1.7777.9002.234310777071915788824399622058', 'InstanceNumber': 34, 'ImagePosition': [-176, -176, 0], 'ImageOrientation': [1, 0, 0, 0, 1, 0], 'filepath': './Chest_CT_selected/TCGA-17-Z019/3-Chest Routine 2-36091/000033.dcm'}, {'SOPInstanceUID': '1.3.6.1.4.1.14519.5.2.1.7777.9002.203320810105608753220351376119', 'InstanceNumber': 28, 'ImagePosition': [-176, -176, 0], 'ImageOrientation': [1, 0, 0, 0, 1, 0], 'filepath': './Chest_CT_selected/TCGA-17-Z019/3-Chest Routine 2-36091/000027.dcm'}, {'SOPInstanceUID': '1.3.6.1.4.1.14519.5.2.1.7777.9002.164135449226704136203112792321', 'InstanceNumber': 27, 'ImagePosition': [-176, -176, 0], 'ImageOrientation': [1, 0, 0, 0, 1, 0], 'filepath': './Chest_CT_selected/TCGA-17-Z019/3-Chest Routine 2-36091/000026.dcm'}, {'SOPInstanceUID': '1.3.6.1.4.1.14519.5.2.1.7777.9002.268291907071673645096379811050', 'InstanceNumber': 33, 'ImagePosition': [-176, -176, 0], 'ImageOrientation': [1, 0, 0, 0, 1, 0], 'filepath': './Chest_CT_selected/TCGA-17-Z019/3-Chest Routine 2-36091/000032.dcm'}, {'SOPInstanceUID': '1.3.6.1.4.1.14519.5.2.1.7777.9002.161540516578380037049106471259', 'InstanceNumber': 37, 'ImagePosition': [-176, -176, 0], 'ImageOrientation': [1, 0, 0, 0, 1, 0], 'filepath': './Chest_CT_selected/TCGA-17-Z019/3-Chest Routine 2-36091/000036.dcm'}, {'SOPInstanceUID': '1.3.6.1.4.1.14519.5.2.1.7777.9002.337055979348616450296726630540', 'InstanceNumber': 23, 'ImagePosition': [-176, -176, 0], 'ImageOrientation': [1, 0, 0, 0, 1, 0], 'filepath': './Chest_CT_selected/TCGA-17-Z019/3-Chest Routine 2-36091/000022.dcm'}, {'SOPInstanceUID': '1.3.6.1.4.1.14519.5.2.1.7777.9002.229400673264185492363533491667', 'InstanceNumber': 24, 'ImagePosition': [-176, -176, 0], 'ImageOrientation': [1, 0, 0, 0, 1, 0], 'filepath': './Chest_CT_selected/TCGA-17-Z019/3-Chest Routine 2-36091/000023.dcm'}, {'SOPInstanceUID': '1.3.6.1.4.1.14519.5.2.1.7777.9002.308800035323234144149253367206', 'InstanceNumber': 38, 'ImagePosition': [-176, -176, 0], 'ImageOrientation': [1, 0, 0, 0, 1, 0], 'filepath': './Chest_CT_selected/TCGA-17-Z019/3-Chest Routine 2-36091/000037.dcm'}, {'SOPInstanceUID': '1.3.6.1.4.1.14519.5.2.1.7777.9002.167984912908663079813989169037', 'InstanceNumber': 22, 'ImagePosition': [-176, -176, 0], 'ImageOrientation': [1, 0, 0, 0, 1, 0], 'filepath': './Chest_CT_selected/TCGA-17-Z019/3-Chest Routine 2-36091/000021.dcm'}, {'SOPInstanceUID': '1.3.6.1.4.1.14519.5.2.1.7777.9002.160879111611887647469638510175', 'InstanceNumber': 36, 'ImagePosition': [-176, -176, 0], 'ImageOrientation': [1, 0, 0, 0, 1, 0], 'filepath': './Chest_CT_selected/TCGA-17-Z019/3-Chest Routine 2-36091/000035.dcm'}, {'SOPInstanceUID': '1.3.6.1.4.1.14519.5.2.1.7777.9002.119793784417517398297913857251', 'InstanceNumber': 10, 'ImagePosition': [-176, -176, 0], 'ImageOrientation': [1, 0, 0, 0, 1, 0], 'filepath': './Chest_CT_selected/TCGA-17-Z019/3-Chest Routine 2-36091/000009.dcm'}, {'SOPInstanceUID': '1.3.6.1.4.1.14519.5.2.1.7777.9002.253616352101264506817928879455', 'InstanceNumber': 9, 'ImagePosition': [-176, -176, 0], 'ImageOrientation': [1, 0, 0, 0, 1, 0], 'filepath': './Chest_CT_selected/TCGA-17-Z019/3-Chest Routine 2-36091/000008.dcm'}, {'SOPInstanceUID': '1.3.6.1.4.1.14519.5.2.1.7777.9002.299060704922273894653401395403', 'InstanceNumber': 35, 'ImagePosition': [-176, -176, 0], 'ImageOrientation': [1, 0, 0, 0, 1, 0], 'filepath': './Chest_CT_selected/TCGA-17-Z019/3-Chest Routine 2-36091/000034.dcm'}, {'SOPInstanceUID': '1.3.6.1.4.1.14519.5.2.1.7777.9002.159448814043040436424846568303', 'InstanceNumber': 21, 'ImagePosition': [-176, -176, 0], 'ImageOrientation': [1, 0, 0, 0, 1, 0], 'filepath': './Chest_CT_selected/TCGA-17-Z019/3-Chest Routine 2-36091/000020.dcm'}, {'SOPInstanceUID': '1.3.6.1.4.1.14519.5.2.1.7777.9002.187402424405507807319109875831', 'InstanceNumber': 40, 'ImagePosition': [-176, -176, 0], 'ImageOrientation': [1, 0, 0, 0, 1, 0], 'filepath': './Chest_CT_selected/TCGA-17-Z019/3-Chest Routine 2-36091/000039.dcm'}, {'SOPInstanceUID': '1.3.6.1.4.1.14519.5.2.1.7777.9002.118295833349151178365784650435', 'InstanceNumber': 6, 'ImagePosition': [-176, -176, 0], 'ImageOrientation': [1, 0, 0, 0, 1, 0], 'filepath': './Chest_CT_selected/TCGA-17-Z019/3-Chest Routine 2-36091/000005.dcm'}, {'SOPInstanceUID': '1.3.6.1.4.1.14519.5.2.1.7777.9002.129621873833738781375027282368', 'InstanceNumber': 12, 'ImagePosition': [-176, -176, 0], 'ImageOrientation': [1, 0, 0, 0, 1, 0], 'filepath': './Chest_CT_selected/TCGA-17-Z019/3-Chest Routine 2-36091/000011.dcm'}, {'SOPInstanceUID': '1.3.6.1.4.1.14519.5.2.1.7777.9002.174589686733865295228690700068', 'InstanceNumber': 11, 'ImagePosition': [-176, -176, 0], 'ImageOrientation': [1, 0, 0, 0, 1, 0], 'filepath': './Chest_CT_selected/TCGA-17-Z019/3-Chest Routine 2-36091/000010.dcm'}, {'SOPInstanceUID': '1.3.6.1.4.1.14519.5.2.1.7777.9002.226509166819340741017029475098', 'InstanceNumber': 5, 'ImagePosition': [-176, -176, 0], 'ImageOrientation': [1, 0, 0, 0, 1, 0], 'filepath': './Chest_CT_selected/TCGA-17-Z019/3-Chest Routine 2-36091/000004.dcm'}, {'SOPInstanceUID': '1.3.6.1.4.1.14519.5.2.1.7777.9002.212517151650651191016093895231', 'InstanceNumber': 39, 'ImagePosition': [-176, -176, 0], 'ImageOrientation': [1, 0, 0, 0, 1, 0], 'filepath': './Chest_CT_selected/TCGA-17-Z019/3-Chest Routine 2-36091/000038.dcm'}, {'SOPInstanceUID': '1.3.6.1.4.1.14519.5.2.1.7777.9002.108480038501345631093227876924', 'InstanceNumber': 13, 'ImagePosition': [-176, -176, 0], 'ImageOrientation': [1, 0, 0, 0, 1, 0], 'filepath': './Chest_CT_selected/TCGA-17-Z019/3-Chest Routine 2-36091/000012.dcm'}, {'SOPInstanceUID': '1.3.6.1.4.1.14519.5.2.1.7777.9002.141436081753921236355249157697', 'InstanceNumber': 7, 'ImagePosition': [-176, -176, 0], 'ImageOrientation': [1, 0, 0, 0, 1, 0], 'filepath': './Chest_CT_selected/TCGA-17-Z019/3-Chest Routine 2-36091/000006.dcm'}, {'SOPInstanceUID': '1.3.6.1.4.1.14519.5.2.1.7777.9002.171217125572988388410175103584', 'InstanceNumber': 8, 'ImagePosition': [-176, -176, 0], 'ImageOrientation': [1, 0, 0, 0, 1, 0], 'filepath': './Chest_CT_selected/TCGA-17-Z019/3-Chest Routine 2-36091/000007.dcm'}, {'SOPInstanceUID': '1.3.6.1.4.1.14519.5.2.1.7777.9002.196209401611878483167808124974', 'InstanceNumber': 14, 'ImagePosition': [-176, -176, 0], 'ImageOrientation': [1, 0, 0, 0, 1, 0], 'filepath': './Chest_CT_selected/TCGA-17-Z019/3-Chest Routine 2-36091/000013.dcm'}, {'SOPInstanceUID': '1.3.6.1.4.1.14519.5.2.1.7777.9002.118148292862809948236499861890', 'InstanceNumber': 18, 'ImagePosition': [-176, -176, 0], 'ImageOrientation': [1, 0, 0, 0, 1, 0], 'filepath': './Chest_CT_selected/TCGA-17-Z019/3-Chest Routine 2-36091/000017.dcm'}, {'SOPInstanceUID': '1.3.6.1.4.1.14519.5.2.1.7777.9002.278256607532788601212000272074', 'InstanceNumber': 4, 'ImagePosition': [-176, -176, 0], 'ImageOrientation': [1, 0, 0, 0, 1, 0], 'filepath': './Chest_CT_selected/TCGA-17-Z019/3-Chest Routine 2-36091/000003.dcm'}, {'SOPInstanceUID': '1.3.6.1.4.1.14519.5.2.1.7777.9002.305004741878840312692112288293', 'InstanceNumber': 3, 'ImagePosition': [-176, -176, 0], 'ImageOrientation': [1, 0, 0, 0, 1, 0], 'filepath': './Chest_CT_selected/TCGA-17-Z019/3-Chest Routine 2-36091/000002.dcm'}, {'SOPInstanceUID': '1.3.6.1.4.1.14519.5.2.1.7777.9002.430678889499165032833841107490', 'InstanceNumber': 17, 'ImagePosition': [-176, -176, 0], 'ImageOrientation': [1, 0, 0, 0, 1, 0], 'filepath': './Chest_CT_selected/TCGA-17-Z019/3-Chest Routine 2-36091/000016.dcm'}, {'SOPInstanceUID': '1.3.6.1.4.1.14519.5.2.1.7777.9002.332495718054536022968134085670', 'InstanceNumber': 1, 'ImagePosition': [-176, -176, 0], 'ImageOrientation': [1, 0, 0, 0, 1, 0], 'filepath': './Chest_CT_selected/TCGA-17-Z019/3-Chest Routine 2-36091/000000.dcm'}, {'SOPInstanceUID': '1.3.6.1.4.1.14519.5.2.1.7777.9002.472490959765460389423266732249', 'InstanceNumber': 15, 'ImagePosition': [-176, -176, 0], 'ImageOrientation': [1, 0, 0, 0, 1, 0], 'filepath': './Chest_CT_selected/TCGA-17-Z019/3-Chest Routine 2-36091/000014.dcm'}, {'SOPInstanceUID': '1.3.6.1.4.1.14519.5.2.1.7777.9002.190317122231535910344756522521', 'InstanceNumber': 29, 'ImagePosition': [-176, -176, 0], 'ImageOrientation': [1, 0, 0, 0, 1, 0], 'filepath': './Chest_CT_selected/TCGA-17-Z019/3-Chest Routine 2-36091/000028.dcm'}, {'SOPInstanceUID': '1.3.6.1.4.1.14519.5.2.1.7777.9002.288342182767891067664485050976', 'InstanceNumber': 30, 'ImagePosition': [-176, -176, 0], 'ImageOrientation': [1, 0, 0, 0, 1, 0], 'filepath': './Chest_CT_selected/TCGA-17-Z019/3-Chest Routine 2-36091/000029.dcm'}, {'SOPInstanceUID': '1.3.6.1.4.1.14519.5.2.1.7777.9002.327619308551936563626982653540', 'InstanceNumber': 16, 'ImagePosition': [-176, -176, 0], 'ImageOrientation': [1, 0, 0, 0, 1, 0], 'filepath': './Chest_CT_selected/TCGA-17-Z019/3-Chest Routine 2-36091/000015.dcm'}, {'SOPInstanceUID': '1.3.6.1.4.1.14519.5.2.1.7777.9002.298159661719866297639026258086', 'InstanceNumber': 2, 'ImagePosition': [-176, -176, 0], 'ImageOrientation': [1, 0, 0, 0, 1, 0], 'filepath': './Chest_CT_selected/TCGA-17-Z019/3-Chest Routine 2-36091/000001.dcm'}, {'SOPInstanceUID': '1.3.6.1.4.1.14519.5.2.1.7777.9002.273038216951536938239760970753', 'InstanceNumber': 59, 'ImagePosition': [-176, -176, 0], 'ImageOrientation': [1, 0, 0, 0, 1, 0], 'filepath': './Chest_CT_selected/TCGA-17-Z019/3-Chest Routine 2-36091/000058.dcm'}, {'SOPInstanceUID': '1.3.6.1.4.1.14519.5.2.1.7777.9002.301805968396381125775649726641', 'InstanceNumber': 49, 'ImagePosition': [-176, -176, 0], 'ImageOrientation': [1, 0, 0, 0, 1, 0], 'filepath': './Chest_CT_selected/TCGA-17-Z019/3-Chest Routine 2-36091/000048.dcm'}, {'SOPInstanceUID': '1.3.6.1.4.1.14519.5.2.1.7777.9002.138710099982709997383784921431', 'InstanceNumber': 50, 'ImagePosition': [-176, -176, 0], 'ImageOrientation': [1, 0, 0, 0, 1, 0], 'filepath': './Chest_CT_selected/TCGA-17-Z019/3-Chest Routine 2-36091/000049.dcm'}]}]}]}]}\n"
     ]
    }
   ],
   "source": [
    "def create_simple_DICOMDIR(dicom_dir):\n",
    "    dicomdir = DICOMDIR()\n",
    "    for root, dirs, files in os.walk(dicom_dir):\n",
    "        for file in files:\n",
    "            if file.endswith(\".dcm\"):\n",
    "                filepath = os.path.join(root,file)\n",
    "                #print(filepath)\n",
    "                try:\n",
    "                    ds = dcmread(filepath, force=True)\n",
    "                    # instance attr\n",
    "                    SOPInstanceUID = ds.SOPInstanceUID\n",
    "                    InstanceNumber = int(ds.InstanceNumber) if hasattr(ds, \"InstanceNumber\") else None\n",
    "                    ImagePosition = ds.ImagePosition if hasattr(ds, \"ImagePosition\") else None\n",
    "                    ImageOrientation = ds.ImageOrientation if hasattr(ds, \"ImageOrientation\") else None\n",
    "\n",
    "                    # series attr\n",
    "                    SeriesInstanceUID = ds.SeriesInstanceUID\n",
    "                    SeriesNumber = int(ds.SeriesNumber) if hasattr(ds, \"SeriesNumber\") else None\n",
    "                    Modality = ds.Modality if hasattr(ds, \"Modality\") else None\n",
    "                    SeriesDescription = ds.SeriesDescription if hasattr(ds, \"SeriesDescription\") else None\n",
    "\n",
    "                    # study attr\n",
    "                    StudyInstanceUID = ds.StudyInstanceUID\n",
    "                    StudyID = ds.StudyID if hasattr(ds, \"StudyID\") else None\n",
    "                    StudyDate = ds.StudyDate if hasattr(ds, \"StudyDate\") else None\n",
    "                    StudyDescription = ds.StudyDescription if hasattr(ds, \"StudyDescription\") else None\n",
    "\n",
    "                    # patient attr\n",
    "                    PatientID = ds.PatientID if hasattr(ds, \"PatientID\") else \"Anonymous\"\n",
    "                    PatientName = ds.PatientName if hasattr(ds, \"PatientName\") else None                \n",
    "\n",
    "                    # Insert into dicomdir\n",
    "                    instance = Instance(filepath, SOPInstanceUID, InstanceNumber, ImagePosition, ImageOrientation)\n",
    "                    patient = dicomdir.get_child(PatientID)\n",
    "                    if patient is None:\n",
    "                        #print(patient)\n",
    "                        series = Series(SeriesInstanceUID, SeriesNumber, Modality, SeriesDescription)\n",
    "                        study = Study(StudyInstanceUID, StudyID, StudyDate, StudyDescription)\n",
    "                        patient = Patient(PatientID, PatientName)\n",
    "                        dicomdir.add_child(patient)\n",
    "                        patient.add_child(study)\n",
    "                        study.add_child(series)\n",
    "                        series.add_child(instance)\n",
    "                        continue\n",
    "\n",
    "                    study = patient.get_child(StudyInstanceUID)\n",
    "                    if study is None:\n",
    "                        series = Series(SeriesInstanceUID, SeriesNumber, Modality, SeriesDescription)\n",
    "                        study = Study(StudyInstanceUID, StudyID, StudyDate, StudyDescription)\n",
    "                        patient.add_child(study)\n",
    "                        study.add_child(series)\n",
    "                        series.add_child(instance)\n",
    "                        continue\n",
    "\n",
    "                    series = study.get_child(SeriesInstanceUID)\n",
    "                    if series is None:\n",
    "                        series = Series(SeriesInstanceUID, SeriesNumber, Modality, SeriesDescription)\n",
    "                        study.add_child(series)\n",
    "                        series.add_child(instance)\n",
    "                        continue\n",
    "\n",
    "                    series.add_child(instance)\n",
    "                    \n",
    "                except pydicom.errors.InvalidDicomError as e:\n",
    "                    print(e)\n",
    "                    print(f\"{filepath} is not a valid DICOM file\")\n",
    "\n",
    "                #print(filepath, patient_id, patient_name, study_instance_uid, study_id, series_instance_uid, sop_instance_uid, instance_number, \n",
    "                #     image_position, image_orientation)\n",
    "    return dicomdir\n",
    "\n",
    "dicomdir = create_simple_DICOMDIR(dicom_dir)\n",
    "print(dicomdir)"
   ]
  },
  {
   "cell_type": "code",
   "execution_count": 150,
   "metadata": {},
   "outputs": [
    {
     "name": "stdout",
     "output_type": "stream",
     "text": [
      "\n",
      "patient_id: TCGA-50-5936, patient_name: TCGA-50-5936\n",
      "-- study_uid: 1.3.6.1.4.1.14519.5.2.1.6450.9002.856238445920014684517442952122, study_id: , study_date: 19980424, study_description: CHEST\n",
      "---- series_uid: 1.3.6.1.4.1.14519.5.2.1.6450.9002.186918016920030524145229857744, series_number: 190, modality: CT, series_description: Reformatted\n",
      "\n",
      "patient_id: TCGA-17-Z019, patient_name: TCGA-17-Z019\n",
      "-- study_uid: 1.3.6.1.4.1.14519.5.2.1.7777.9002.233123708853610798929346174556, study_id: , study_date: 19821127, study_description: None\n",
      "---- series_uid: 1.3.6.1.4.1.14519.5.2.1.7777.9002.182050713312212959440141836091, series_number: 3, modality: CT, series_description: Chest Routine #2\n"
     ]
    }
   ],
   "source": [
    "# read DICOMDIR\n",
    "for patient in dicomdir.children:\n",
    "    patient_id = patient.PatientID\n",
    "    patient_name = patient.PatientName\n",
    "    print(f\"\")\n",
    "    print(f\"patient_id: {patient_id}, patient_name: {patient_name}\")\n",
    "    \n",
    "    for study in patient.children:\n",
    "        study_uid = study.StudyInstanceUID\n",
    "        study_id = study.StudyID\n",
    "        study_date = study.StudyDate\n",
    "        study_description = study.StudyDescription\n",
    "        print(f\"-- study_uid: {study_uid}, study_id: {study_id}, study_date: {study_date}, study_description: {study_description}\")\n",
    "        \n",
    "        for series in study.children:\n",
    "            series_uid = series.SeriesInstanceUID\n",
    "            modality = series.Modality\n",
    "            series_number = series.SeriesNumber\n",
    "            series_description = series.SeriesDescription\n",
    "            print(f\"---- series_uid: {series_uid}, series_number: {series_number}, modality: {modality}, series_description: {series_description}\")\n",
    "\n",
    "            for instance in series.children:\n",
    "                instance_uid = instance.SOPInstanceUID\n",
    "                instance_number = instance.InstanceNumber\n",
    "                image_position = instance.ImagePosition\n",
    "                image_orientation = instance.ImageOrientation\n",
    "                #print(f\"instance_uid: {instance_uid}, instance_number: {instance_number}, image_position: {image_position}, image_orientation: {image_orientation}\")\n"
   ]
  },
  {
   "cell_type": "code",
   "execution_count": null,
   "metadata": {},
   "outputs": [],
   "source": []
  }
 ],
 "metadata": {
  "kernelspec": {
   "display_name": "Python 3",
   "language": "python",
   "name": "python3"
  },
  "language_info": {
   "codemirror_mode": {
    "name": "ipython",
    "version": 3
   },
   "file_extension": ".py",
   "mimetype": "text/x-python",
   "name": "python",
   "nbconvert_exporter": "python",
   "pygments_lexer": "ipython3",
   "version": "3.7.5"
  }
 },
 "nbformat": 4,
 "nbformat_minor": 4
}
